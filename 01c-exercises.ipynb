{
 "cells": [
  {
   "cell_type": "markdown",
   "id": "7a8044c5-8e76-4844-8aca-320688ec7e76",
   "metadata": {},
   "source": [
    "# Practice exercises \\#1 with answers"
   ]
  },
  {
   "cell_type": "markdown",
   "id": "7592683a-f40f-4431-b79f-8cd45023e862",
   "metadata": {},
   "source": [
    "This is the first set of exercises based on the materials seen during lecture 1. These exercises will help you practise with variables and with basic mathematical operations. While these exercises can be resolved on paper or through a calculator, the aim is for you to develop a solution in python."
   ]
  },
  {
   "cell_type": "markdown",
   "id": "ed435318-b4a5-4243-83e5-a60e3d672140",
   "metadata": {},
   "source": [
    "1. Suppose we are going to buy 75 copies of the 'Think Python' book. Each copy costs £27.65. Because of the large size of our order, we have been offered a 20% discount on the total cost of the books. On top of that, we need to add the shipping costs, which is £0.95 for each of the first 10 books, and £0.45 for each of the remainder of the books. Calculate the total cost of our order."
   ]
  },
  {
   "cell_type": "code",
   "execution_count": 1,
   "id": "347db21f-63be-4d04-b1c0-1858cab93fd1",
   "metadata": {},
   "outputs": [
    {
     "name": "stdout",
     "output_type": "stream",
     "text": [
      "1697.75\n"
     ]
    }
   ],
   "source": [
    "# option 1\n",
    "num_books = 75\n",
    "book_cost = 27.65\n",
    "discount = 0.8\n",
    "shipping_first10 = 0.95\n",
    "shipping_others = 0.45\n",
    "\n",
    "books_total = num_books * book_cost\n",
    "books_discounted = books_total * discount\n",
    "shipping_total = 10 * shipping_first10 + (num_books - 10) * shipping_others\n",
    "\n",
    "total_cost = books_discounted + shipping_total\n",
    "print(total_cost)"
   ]
  },
  {
   "cell_type": "code",
   "execution_count": 2,
   "id": "64ab46f6-96ac-4399-a95d-6720e1c32871",
   "metadata": {},
   "outputs": [
    {
     "name": "stdout",
     "output_type": "stream",
     "text": [
      "1697.75\n"
     ]
    }
   ],
   "source": [
    "# option 2\n",
    "num_books = 75\n",
    "book_cost = 27.65\n",
    "discount = 0.8\n",
    "shipping_first10 = 0.95\n",
    "shipping_others = 0.45\n",
    "\n",
    "total_cost = num_books * book_cost * discount + 10 * shipping_first10 + (num_books - 10) * shipping_others\n",
    "print(total_cost)"
   ]
  },
  {
   "cell_type": "markdown",
   "id": "f6f535c8-1b2f-4c99-ba7d-cbcd604e0b0c",
   "metadata": {},
   "source": [
    "2. Sarah has completed a marathon in 9,752 seconds. Break down the time into hours, minutes and seconds."
   ]
  },
  {
   "cell_type": "code",
   "execution_count": 8,
   "id": "f8f50acc-984f-45a3-9131-721002756d33",
   "metadata": {},
   "outputs": [
    {
     "name": "stdout",
     "output_type": "stream",
     "text": [
      "Sarah completed the marathon in 2 hours,  42 minutes, and 32 seconds.\n"
     ]
    }
   ],
   "source": [
    "# option 1: bottom up\n",
    "total_secs = 9752\n",
    "\n",
    "remainder_secs = total_secs % 60\n",
    "secs_to_be_computed = total_secs - remainder_secs\n",
    "mins_to_be_computed = secs_to_be_computed / 60\n",
    "remainder_mins = int(mins_to_be_computed) % 60\n",
    "hours = int(mins_to_be_computed / 60)\n",
    "\n",
    "print('Sarah completed the marathon in', hours, 'hours, ', remainder_mins, 'minutes, and', remainder_secs, 'seconds.')"
   ]
  },
  {
   "cell_type": "code",
   "execution_count": 6,
   "id": "a3dcf8e2-32e9-4209-907a-fb1f070a29ff",
   "metadata": {},
   "outputs": [
    {
     "name": "stdout",
     "output_type": "stream",
     "text": [
      "Sarah completed the marathon in 2 hours,  42 minutes, and 32 seconds.\n"
     ]
    }
   ],
   "source": [
    "# option 2: top down\n",
    "total_secs = 9752\n",
    "\n",
    "hours = int(total_secs / (60 * 60))\n",
    "secs_to_be_computed = total_secs - hours * 60 * 60\n",
    "minutes = int(secs_to_be_computed / 60)\n",
    "secs = secs_to_be_computed - minutes * 60\n",
    "\n",
    "print('Sarah completed the marathon in', hours, 'hours, ', minutes, 'minutes, and', secs, 'seconds.')"
   ]
  },
  {
   "cell_type": "code",
   "execution_count": 2,
   "id": "ba3e83fd-7160-4203-97af-391c8d9a9e22",
   "metadata": {},
   "outputs": [
    {
     "name": "stdout",
     "output_type": "stream",
     "text": [
      "Sarah completed the marathon in 2 hours,  42 minutes, and 32 seconds.\n"
     ]
    }
   ],
   "source": [
    "# option 3: \n",
    "total_secs = 9752\n",
    "\n",
    "hours = total_secs // (60 * 60)                         # // is floor division (keeps only the whole number, rounded down)\n",
    "secs_to_be_computed = total_secs % 3600                 # % modulus gives remainder (leftover) \n",
    "minutes = secs_to_be_computed // 60\n",
    "secs = secs_to_be_computed % 60\n",
    "\n",
    "print('Sarah completed the marathon in', hours, 'hours, ', minutes, 'minutes, and', secs, 'seconds.')"
   ]
  },
  {
   "cell_type": "markdown",
   "id": "ae89c274-3f47-43a8-b970-91ecf879c0b4",
   "metadata": {},
   "source": [
    "3. Four athletes (A, B, C, D) make up a team competing in 4x100m relay, i.e. an athletics track run where four runners run 100m each after each other. Each of the team members runs at the following average speeds:\n",
    "- A: 9.10 m/s\n",
    "- B: 9.25 m/s\n",
    "- C: 9.05 m/s\n",
    "- D: 9.45 m/s\n",
    "\n",
    "How long will it take for them to complete the 400 metres?\n",
    "\n",
    "For the purposes of this exercise, assume the above are average speeds throughout their entire run, i.e. ignore the fact that speed may be slower at the start and when transferring the baton, for example."
   ]
  },
  {
   "cell_type": "code",
   "execution_count": 10,
   "id": "e270121b-42a0-4121-b9f7-1a832b82cbb8",
   "metadata": {},
   "outputs": [
    {
     "name": "stdout",
     "output_type": "stream",
     "text": [
      "They will need 43.43155613873846 seconds to complete the run.\n"
     ]
    }
   ],
   "source": [
    "a = 9.10\n",
    "b = 9.25\n",
    "c = 9.05\n",
    "d = 9.45\n",
    "\n",
    "total_secs = (100 / a) + (100 / b) + (100 / c) + (100 / d)\n",
    "print('They will need', total_secs, 'seconds to complete the run.')"
   ]
  },
  {
   "cell_type": "markdown",
   "id": "939b1230-5b32-472d-b41f-0bcabe2304c3",
   "metadata": {},
   "source": [
    "4. A coffee shop offers every 5th coffee within a single purchase for free. That is:\n",
    "- if you buy 5 coffees, you pay 4.\n",
    "- if you buy 10 coffees, you pay 8.\n",
    "- if you buy 9 coffees, you pay 8 (you only qualify for 1 free coffee).\n",
    "\n",
    "For a purchase order of 37 coffees, at £3.75 a coffee, how much do we need to pay after applying the above discounts?\n",
    "\n",
    "**NB:** Make sure your code is flexible to be used with different numbers of coffeees, e.g. if we now have an order of 54 coffees, ideally we would only want to modify 37 by 54 in one place, and the code provides the new solution."
   ]
  },
  {
   "cell_type": "code",
   "execution_count": 15,
   "id": "293717bb-f8c6-4a58-8186-a1e1161b3b94",
   "metadata": {},
   "outputs": [
    {
     "name": "stdout",
     "output_type": "stream",
     "text": [
      "We've ordered 37 coffees, which qualifies us for 7 free coffees. As we need to pay for 30 in the end, we will pay £ 112.5\n"
     ]
    }
   ],
   "source": [
    "# Basically, the number of coffees we get for free it the floor division n // 5, where n is the number of coffees ordered\n",
    "\n",
    "num_coffees = 37\n",
    "price = 3.75\n",
    "\n",
    "free_coffees = num_coffees // 5 # also: int(num_coffees / 5) or ((num_coffees - num_coffees % 5) / 5)\n",
    "coffees_to_pay = num_coffees - free_coffees\n",
    "\n",
    "total_price = coffees_to_pay * price\n",
    "\n",
    "print('We\\'ve ordered', num_coffees, 'coffees, which qualifies us for', free_coffees, 'free coffees. As we need to pay for', coffees_to_pay, 'in the end, we will pay £', total_price)"
   ]
  },
  {
   "cell_type": "code",
   "execution_count": 2,
   "id": "5df7abac-31cb-4c01-b948-01897dc2c7f4",
   "metadata": {},
   "outputs": [
    {
     "name": "stdout",
     "output_type": "stream",
     "text": [
      "We've ordered 54 coffees, which qualifies us for 10 free coffees. As we need to pay for 44 in the end, we will pay £ 165.0\n"
     ]
    }
   ],
   "source": [
    "# Now, if we have an order of 54 coffees, we will only need to modify the num_coffees variable\n",
    "\n",
    "num_coffees = 54\n",
    "price = 3.75\n",
    "\n",
    "free_coffees = num_coffees // 5 # also: int(num_coffees / 5) or ((num_coffees - num_coffees % 5) / 5)\n",
    "coffees_to_pay = num_coffees - free_coffees\n",
    "\n",
    "total_price = coffees_to_pay * price\n",
    "\n",
    "print('We\\'ve ordered', num_coffees, 'coffees, which qualifies us for', free_coffees, 'free coffees. As we need to pay for', coffees_to_pay, 'in the end, we will pay £', total_price)"
   ]
  },
  {
   "cell_type": "markdown",
   "id": "b2e54654-5874-4db8-a601-50fed55ec797",
   "metadata": {},
   "source": [
    "5. We have a farm with chickens and rabbits. Provided two variables with the number of chickens and the number of rabbits we have, calculate the total number of legs of the animals in our farm. We know that each chicken has two legs, whereas rabbits have four legs.\n",
    "\n",
    "For example, if we have 5 chickens and 7 rabbits, how many legs do our animals have in total?"
   ]
  },
  {
   "cell_type": "code",
   "execution_count": 1,
   "id": "187c2739-60ff-4a55-8821-07fda3334785",
   "metadata": {},
   "outputs": [
    {
     "name": "stdout",
     "output_type": "stream",
     "text": [
      "Our 5 chickens and 7 rabbits have 38 legs.\n"
     ]
    }
   ],
   "source": [
    "chickens = 5\n",
    "rabbits = 7\n",
    "\n",
    "legs = (2 * chickens) + (4 * rabbits)\n",
    "\n",
    "print('Our', chickens, 'chickens and', rabbits, 'rabbits have', legs, 'legs.')"
   ]
  },
  {
   "cell_type": "markdown",
   "id": "9660d6aa-6e7d-46d9-8b99-30e7b45a1811",
   "metadata": {},
   "source": [
    "6. In our farm with chickens and rabbits, we now know the total number of legs and the number or rabbits. Provided these two variables, calculate the number of chickens and animal heads in our farm.\n",
    "\n",
    "For example, if we have 11 rabbits and our animals have 58 legs in total, how many chickens do we have? And how many heads?"
   ]
  },
  {
   "cell_type": "code",
   "execution_count": 4,
   "id": "1437a5c4-fd85-4571-8472-a97f3ce80bc3",
   "metadata": {},
   "outputs": [
    {
     "name": "stdout",
     "output_type": "stream",
     "text": [
      "Provided that we have 11 rabbits and 58 legs, then we have 7 chickens.\n"
     ]
    }
   ],
   "source": [
    "rabbits = 11\n",
    "total_legs = 58\n",
    "\n",
    "rabbit_legs = rabbits * 4\n",
    "chicken_legs = total_legs - rabbit_legs\n",
    "chickens = chicken_legs // 2\n",
    "\n",
    "print('Provided that we have', rabbits, 'rabbits and', total_legs, 'legs, then we have', chickens, 'chickens.')"
   ]
  },
  {
   "cell_type": "markdown",
   "id": "b35b34e8-a281-48e5-b394-6b53a1de32db",
   "metadata": {},
   "source": [
    "**[Advanced]**\n",
    "\n",
    "7. In the same farm with chickens and rabbits, now we know how many heads and how many legs our animals have. Provided these two variables, calculate the number of chickens and rabbits.\n",
    "\n",
    "For example, if our animals have 23 heads and 76 legs, how many chickens and rabbits do we have?"
   ]
  },
  {
   "cell_type": "code",
   "execution_count": 12,
   "id": "5da75d43-60f3-4a99-9be5-8bbad752a03c",
   "metadata": {},
   "outputs": [
    {
     "name": "stdout",
     "output_type": "stream",
     "text": [
      "In our farm with 23 heads and 76 legs, we have 15 rabbits and 8 chickens.\n"
     ]
    }
   ],
   "source": [
    "# Option 1: calculate rabbits first, then chickens\n",
    "\n",
    "heads = 23\n",
    "legs = 76\n",
    "\n",
    "rabbits = (legs - 2 * heads) // 2\n",
    "chickens = heads - rabbits\n",
    "\n",
    "print('In our farm with', heads, 'heads and', legs, 'legs, we have', rabbits, 'rabbits and', chickens, 'chickens.')"
   ]
  },
  {
   "cell_type": "markdown",
   "id": "fc2722a2-dee2-4a90-b800-46a0c873bf6e",
   "metadata": {},
   "source": [
    "The challenge in the 7th exercise lies in coming up with the equation to calculate the number of animals.\n",
    "\n",
    "We know that the counts of heads and legs can be broken down as follows:\n",
    "\n",
    "`heads = chickens + rabbits`\n",
    "\n",
    "`legs = 2 * chickens + 4 * rabbits`\n",
    "\n",
    "We have two equations with two variables to resolve, so let's come up with a single equation where we have a single variable to resolve. From the first equation, we can infer that:\n",
    "\n",
    "`chickens = heads - rabbits`\n",
    "\n",
    "Which we then replace in the 2nd equation and get rid of the chickens variable:\n",
    "\n",
    "`legs = 2 * (heads - rabbits) + 4 * rabbits`\n",
    "\n",
    "`legs = 2 * heads - 2 * rabbits + 4 * rabbits`\n",
    "\n",
    "`legs = 2 * heads + 2 * rabbits`\n",
    "\n",
    "`legs - 2 * heads = 2 * rabbits`\n",
    "\n",
    "`(legs - 2 * heads) / 2 = rabbits`\n",
    "\n",
    "This is the equation we used above. We add the double slash to round down the number of rabbits to an integer.\n",
    "\n",
    "Once we know the number of rabbits, the number of chickens is simply the remainder of the heads."
   ]
  },
  {
   "cell_type": "code",
   "execution_count": 13,
   "id": "e1aa13aa-f835-4540-85eb-5ed4b010f355",
   "metadata": {},
   "outputs": [
    {
     "name": "stdout",
     "output_type": "stream",
     "text": [
      "In our farm with 23 heads and 76 legs, we have 15 rabbits and 8 chickens.\n"
     ]
    }
   ],
   "source": [
    "# Option 2: calculate chickens first, then rabbits\n",
    "\n",
    "heads = 23\n",
    "legs = 76\n",
    "\n",
    "chickens = (4 * heads - legs) // 2\n",
    "rabbits = heads - chickens\n",
    "\n",
    "print('In our farm with', heads, 'heads and', legs, 'legs, we have', rabbits, 'rabbits and', chickens, 'chickens.')"
   ]
  },
  {
   "cell_type": "markdown",
   "id": "09bd2330-af7d-4a9e-b138-e6453e757d0f",
   "metadata": {},
   "source": [
    "The challenge in the 7th exercise lies in coming up with the equation to calculate the number of animals.\n",
    "\n",
    "We know that the counts of heads and legs can be broken down as follows:\n",
    "\n",
    "`heads = chickens + rabbits`\n",
    "\n",
    "`legs = 2 * chickens + 4 * rabbits`\n",
    "\n",
    "We have two equations with two variables to resolve, so let's come up with a single equation where we have a single variable to resolve. From the first equation, we can infer that:\n",
    "\n",
    "`rabbits = heads - chickens`\n",
    "\n",
    "Which we then replace in the 2nd equation and get rid of the rabbits variable:\n",
    "\n",
    "`legs = 2 * chickens + 4 * (heads - chickens)`\n",
    "\n",
    "`legs = 2 * chickens + 4 * heads - 4 * chickens`\n",
    "\n",
    "`2 * chickens = 4 * heads - legs`\n",
    "\n",
    "`chickens = (4 * heads - legs) / 2`\n",
    "\n",
    "Again we add the double slash to round down the number of chickens to an integer.\n",
    "\n",
    "Once we know the number of chickens, the number of rabbits is simply the remainder of the heads."
   ]
  },
  {
   "cell_type": "code",
   "execution_count": null,
   "id": "e8124e85-02dd-4145-98b9-90344f4c834e",
   "metadata": {},
   "outputs": [],
   "source": []
  }
 ],
 "metadata": {
  "kernelspec": {
   "display_name": "Python 3 (ipykernel)",
   "language": "python",
   "name": "python3"
  },
  "language_info": {
   "codemirror_mode": {
    "name": "ipython",
    "version": 3
   },
   "file_extension": ".py",
   "mimetype": "text/x-python",
   "name": "python",
   "nbconvert_exporter": "python",
   "pygments_lexer": "ipython3",
   "version": "3.13.5"
  }
 },
 "nbformat": 4,
 "nbformat_minor": 5
}
