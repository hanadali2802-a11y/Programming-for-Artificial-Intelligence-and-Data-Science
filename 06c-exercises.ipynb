{
 "cells": [
  {
   "cell_type": "markdown",
   "id": "1587e361-1b88-4538-84dc-b109131d1f3c",
   "metadata": {},
   "source": [
    "# Practice exercises \\#6 with answers"
   ]
  },
  {
   "cell_type": "markdown",
   "id": "a7e7f473-9c18-4537-be31-12bff783858a",
   "metadata": {},
   "source": [
    "1. Given two dictionaries as input, produce the list of keys present in both dictionaries, i.e. the intersection of keys across two dictionaries.\n",
    "\n",
    "You may use the following dictionaries to test your code:\n",
    "\n",
    "```\n",
    "d1 = {'a': 1, 'b': 2, 'c': 3, 'd': 4}\n",
    "d2 = {'c': 1, 'd': 2, 'e': 3, 'f': 4}\n",
    "```"
   ]
  },
  {
   "cell_type": "code",
   "execution_count": 2,
   "id": "4d227ec6-3810-4be7-992a-b548a1b0a4c9",
   "metadata": {},
   "outputs": [
    {
     "data": {
      "text/plain": [
       "{'c', 'd'}"
      ]
     },
     "execution_count": 2,
     "metadata": {},
     "output_type": "execute_result"
    }
   ],
   "source": [
    "def get_key_intersection(d1, d2):\n",
    "    k1 = set(d1.keys())\n",
    "    k2 = set(d2.keys())\n",
    "    \n",
    "    return k1.intersection(k2)\n",
    "\n",
    "d1 = {'a': 1, 'b': 2, 'c': 3, 'd': 4}\n",
    "d2 = {'c': 1, 'd': 2, 'e': 3, 'f': 4}\n",
    "\n",
    "get_key_intersection(d1, d2)"
   ]
  },
  {
   "cell_type": "markdown",
   "id": "633fa746-3973-42a4-bc65-9d2ad68d4e2c",
   "metadata": {},
   "source": [
    "2. Suppose we are given a dictionary where the keys are words and the values indicate their count or frequency. We want to write a function that inverts this dictionary, i.e. creates a new dictionary where the key is (a string version of) a count, and the value is a list of words that have that frequency.\n",
    "\n",
    "You may test your function using the following dictionary:\n",
    "\n",
    "```\n",
    "wordfreqs = {'word1': 1, 'word2': 2, 'word3': 3, 'word4': 1, 'word5': 1, 'word6': 2, 'word7': 4, 'word8': 4}\n",
    "```\n",
    "\n",
    "The expected output for the above example would be:\n",
    "\n",
    "```\n",
    "{'1': ['word1', 'word4', 'word5'], '2': ['word2', 'word6'], '3': ['word3'], '4': ['word7', 'word8']}\n",
    "```"
   ]
  },
  {
   "cell_type": "code",
   "execution_count": 3,
   "id": "6d87723a-63f9-44af-ab01-2ca34996acb8",
   "metadata": {},
   "outputs": [
    {
     "data": {
      "text/plain": [
       "{'1': ['word1', 'word4', 'word5'],\n",
       " '2': ['word2', 'word6'],\n",
       " '3': ['word3'],\n",
       " '4': ['word7', 'word8']}"
      ]
     },
     "execution_count": 3,
     "metadata": {},
     "output_type": "execute_result"
    }
   ],
   "source": [
    "def invert_wordcount(wordfreqs):\n",
    "    freqwords = {}\n",
    "    for word, freq in wordfreqs.items():\n",
    "        sfreq = str(freq)\n",
    "        if sfreq in freqwords:\n",
    "            freqwords[sfreq].append(word)\n",
    "        else:\n",
    "            freqwords[sfreq] = [word]\n",
    "            \n",
    "    return freqwords\n",
    "\n",
    "wordfreqs = {'word1': 1, 'word2': 2, 'word3': 3, 'word4': 1, 'word5': 1, 'word6': 2, 'word7': 4, 'word8': 4}\n",
    "\n",
    "invert_wordcount(wordfreqs)"
   ]
  },
  {
   "cell_type": "markdown",
   "id": "5781763b-ffb0-4262-97f4-05a28b4e69de",
   "metadata": {},
   "source": [
    "3. Having two lists as input, l1 and l2, create a dictionary where the keys are the values from l1 and the values are those from l2.\n",
    "\n",
    "For example, if the lists are:\n",
    "\n",
    "```\n",
    "l1 = ['k1', 'k2', 'k3', 'k4', 'k5']\n",
    "l2 = [5, 10, 15, 20, 25]\n",
    "```\n",
    "\n",
    "Then the output dictionary would be:\n",
    "\n",
    "```\n",
    "{'k1': 5, 'k2': 10, 'k3': 15, 'k4': 20, 'k5': 25}\n",
    "```"
   ]
  },
  {
   "cell_type": "code",
   "execution_count": 1,
   "id": "9959f109-06a9-480d-861a-c7aacbc21cab",
   "metadata": {},
   "outputs": [
    {
     "data": {
      "text/plain": [
       "{'k1': 5, 'k2': 10, 'k3': 15, 'k4': 20, 'k5': 25}"
      ]
     },
     "execution_count": 1,
     "metadata": {},
     "output_type": "execute_result"
    }
   ],
   "source": [
    "# Option 1:\n",
    "l1 = ['k1', 'k2', 'k3', 'k4', 'k5']\n",
    "l2 = [5, 10, 15, 20, 25]\n",
    "\n",
    "mydict = dict(zip(l1, l2))\n",
    "\n",
    "mydict"
   ]
  },
  {
   "cell_type": "code",
   "execution_count": 2,
   "id": "3a8a6462-163d-4d8b-8915-2a2b23a05026",
   "metadata": {},
   "outputs": [
    {
     "data": {
      "text/plain": [
       "{'k1': 5, 'k2': 10, 'k3': 15, 'k4': 20, 'k5': 25}"
      ]
     },
     "execution_count": 2,
     "metadata": {},
     "output_type": "execute_result"
    }
   ],
   "source": [
    "# Option 2:\n",
    "def get_dict(l1, l2):\n",
    "    newdict = {}\n",
    "    for k, v in zip(l1, l2):\n",
    "        newdict[k] = v\n",
    "\n",
    "    return newdict\n",
    "\n",
    "l1 = ['k1', 'k2', 'k3', 'k4', 'k5']\n",
    "l2 = [5, 10, 15, 20, 25]\n",
    "\n",
    "get_dict(l1, l2)"
   ]
  },
  {
   "cell_type": "markdown",
   "id": "d456f60a-1a28-4be0-b513-19d3d3da3df2",
   "metadata": {},
   "source": [
    "4. Given a numeric value as input, find all the keys in a dictionary that match that value.\n",
    "\n",
    "For example, given the dictionary:\n",
    "\n",
    "```\n",
    "mydict = {'a': 5, 'b': 10, 'c': 5, 'd': 25, 'e': 20, 'f': 5}\n",
    "```\n",
    "\n",
    "And the value 5 as the one to match, the output would be the keys: 'a', 'c' and 'f'"
   ]
  },
  {
   "cell_type": "code",
   "execution_count": 3,
   "id": "c3cebc4a-1ef3-4588-a094-d28240697b3c",
   "metadata": {},
   "outputs": [
    {
     "data": {
      "text/plain": [
       "['a', 'c', 'f']"
      ]
     },
     "execution_count": 3,
     "metadata": {},
     "output_type": "execute_result"
    }
   ],
   "source": [
    "mydict = {'a': 5, 'b': 10, 'c': 5, 'd': 25, 'e': 20, 'f': 5}\n",
    "val = 5\n",
    "\n",
    "matching_keys = [key for key, value in mydict.items() if value == val]\n",
    "\n",
    "matching_keys"
   ]
  },
  {
   "cell_type": "markdown",
   "id": "63bf9030-1b8d-4663-afda-86470892e64e",
   "metadata": {},
   "source": [
    "5. Given a list of words, e.g.:\n",
    "\n",
    "```\n",
    "words = ['about', 'and', 'at', 'to', 'two', 'ten', 'tone']\n",
    "```\n",
    "\n",
    "Create a dictionary with the count of occurrences based on the first letter of the words, i.e.:\n",
    "\n",
    "```\n",
    "counts = {'a': 3, 't': 4}\n",
    "```"
   ]
  },
  {
   "cell_type": "code",
   "execution_count": 5,
   "id": "62a19232-4f97-40eb-b04b-fa31847a53bc",
   "metadata": {},
   "outputs": [
    {
     "name": "stdout",
     "output_type": "stream",
     "text": [
      "{'a': 3, 't': 4}\n"
     ]
    }
   ],
   "source": [
    "def lcounts(words):\n",
    "    counts = {}\n",
    "    for word in words:\n",
    "        initial = word[0].lower()\n",
    "        counts[initial] = 1 + counts.get(initial, 0)\n",
    "        \n",
    "    return counts\n",
    "\n",
    "words = ['about', 'and', 'at', 'to', 'two', 'ten', 'tone']\n",
    "\n",
    "counts = lcounts(words)\n",
    "print(counts)"
   ]
  },
  {
   "cell_type": "markdown",
   "id": "61fe4ac5-eb8d-4ae7-8918-3f8f68e8f0f3",
   "metadata": {},
   "source": [
    "6. We have our work calendar in a dictionary of lists, something like this:\n",
    "\n",
    "`calendar = {'Monday':      [1, 1, 1, 0, 0, 0, 1, 1, 0, 1, 0, 1, 1, 1, 1, 1],`\n",
    "\n",
    "`            'Tuesday':     [1, 1, 1, 1, 1, 1, 1, 1, 1, 1, 0, 0, 1, 1, 0, 0],`\n",
    "\n",
    "`            'Wednesday':   [0, 0, 1, 1, 1, 1, 1, 1, 1, 0, 0, 1, 1, 0, 1, 1],`\n",
    "\n",
    "`            'Thursday':    [1, 1, 1, 1, 1, 0, 1, 1, 1, 1, 1, 1, 1, 0, 1, 1],`\n",
    "\n",
    "`            'Friday':      [1, 1, 0, 0, 1, 1, 1, 1, 1, 1, 0, 0, 0, 0, 0, 0]}`\n",
    "\n",
    "Each list contains values of 0 (available) or 1 (unavailable) for 30-minute slots from 9am to 5pm.\n",
    "\n",
    "In another list, we have the labels for the timeslots above, which keep the same order:\n",
    "\n",
    "`timeslots = ['9am', '9.30am', '10am', '10.30am', '11am', '11.30am', '12pm', '12.30pm', '1pm', '1.30pm', '2pm', '2.30pm', '3pm', '3.30pm', '4pm', '4.30pm']`\n",
    "\n",
    "Create a function `find_1hr_slot(calendar)` that outputs our availability for a 1hr meeting, i.e. where we have 2 consecutive 30-minute slots available. Output the weekdays and times where this meeting could be booked."
   ]
  },
  {
   "cell_type": "code",
   "execution_count": 11,
   "id": "c4d288e7-ec1a-49cd-8c02-6493fa575b02",
   "metadata": {},
   "outputs": [],
   "source": [
    "# Write your find_1hr_slot() function here\n",
    "def find_1hr_slot(calendar, timeslots):\n",
    "    availability = []\n",
    "    for weekday, slots in calendar.items():\n",
    "        for n_slot in range(len(slots) - 1):\n",
    "            if slots[n_slot] == 0 and slots[n_slot+1] == 0:\n",
    "                availability += [(weekday, timeslots[n_slot])]\n",
    "                \n",
    "    return availability"
   ]
  },
  {
   "cell_type": "code",
   "execution_count": 12,
   "id": "c4fb7b57-aa61-4778-a0bb-24d0565634c1",
   "metadata": {},
   "outputs": [
    {
     "data": {
      "text/plain": [
       "[('Monday', '10.30am'),\n",
       " ('Monday', '11am'),\n",
       " ('Tuesday', '2pm'),\n",
       " ('Tuesday', '4pm'),\n",
       " ('Wednesday', '9am'),\n",
       " ('Wednesday', '1.30pm'),\n",
       " ('Friday', '10am'),\n",
       " ('Friday', '2pm'),\n",
       " ('Friday', '2.30pm'),\n",
       " ('Friday', '3pm'),\n",
       " ('Friday', '3.30pm'),\n",
       " ('Friday', '4pm')]"
      ]
     },
     "execution_count": 12,
     "metadata": {},
     "output_type": "execute_result"
    }
   ],
   "source": [
    "# You can use the code below to test your function\n",
    "calendar = {'Monday':      [1, 1, 1, 0, 0, 0, 1, 1, 0, 1, 0, 1, 1, 1, 1, 1],\n",
    "            'Tuesday':     [1, 1, 1, 1, 1, 1, 1, 1, 1, 1, 0, 0, 1, 1, 0, 0],\n",
    "            'Wednesday':   [0, 0, 1, 1, 1, 1, 1, 1, 1, 0, 0, 1, 1, 0, 1, 1],\n",
    "            'Thursday':    [1, 1, 1, 1, 1, 0, 1, 1, 1, 1, 1, 1, 1, 0, 1, 1],\n",
    "            'Friday':      [1, 1, 0, 0, 1, 1, 1, 1, 1, 1, 0, 0, 0, 0, 0, 0]}\n",
    "\n",
    "timeslots = ['9am', '9.30am', '10am', '10.30am', '11am', '11.30am', '12pm', '12.30pm', '1pm', '1.30pm', '2pm', '2.30pm', '3pm', '3.30pm', '4pm', '4.30pm']\n",
    "\n",
    "find_1hr_slot(calendar, timeslots)"
   ]
  },
  {
   "cell_type": "markdown",
   "id": "e56e635e-84ab-46bd-82d3-9917824613ec",
   "metadata": {},
   "source": [
    "**[Advanced]**\n",
    "\n",
    "7. Write a function to_roman_numeral(arabic_numeral) that converts Arabic numerals (1, 2, 3, 4, 5,...) to Roman numerals (I, II, III, IV, V,...).\n",
    "\n",
    "**Hint 1:** to start with and for simplicity, you may make it work for numbers between 1 and 49 only. Once you have that, you may extend it to bigger numbers.\n",
    "\n",
    "**Hint 2:** you can use a dictionary with the basic mappings, e.g. I = 1, V = 5, X = 10, etc.\n",
    "\n",
    "**Hint 3:** when doing the conversion, you may want to check bigger numbers first, e.g. check if the number is divisible by 10 to add X to the Roman numeral before checking if it's divisible by 5.\n",
    "\n",
    "**Hint 4:** there are special cases, such as IV being 4, IX being 9, XXIX being 29, or XLIX being 49. You may first ignore these special cases (e.g. output IIII for 4 in the first instance), and fix them later.\n",
    "\n",
    "Here's some guidance on Roman numerals: https://literacy.kent.edu/Minigrants/Cinci/romanchart.htm"
   ]
  },
  {
   "cell_type": "code",
   "execution_count": 3,
   "id": "9d495bb5-516c-4c39-a12e-7d5ded95291b",
   "metadata": {},
   "outputs": [
    {
     "data": {
      "text/plain": [
       "'XLIX'"
      ]
     },
     "execution_count": 3,
     "metadata": {},
     "output_type": "execute_result"
    }
   ],
   "source": [
    "n = 49\n",
    "\n",
    "def to_roman_numeral(value):\n",
    "    roman_map = {\n",
    "        1: \"I\", 4: \"IV\", 5: \"V\", 9: \"IX\",\n",
    "        10: \"X\", 40: \"XL\", 50: \"L\", 90: \"XC\",\n",
    "        100: \"C\", 400: \"CD\", 500: \"D\",\n",
    "        900: \"CM\", 1000: \"M\",\n",
    "    }\n",
    "    \n",
    "    result = \"\"\n",
    "    remainder = value\n",
    "\n",
    "    for i in sorted(roman_map.keys(), reverse=True):\n",
    "        if remainder > 0:\n",
    "            multiplier = i\n",
    "            roman_digit = roman_map[i]\n",
    "\n",
    "            times = remainder // multiplier\n",
    "            remainder = remainder % multiplier\n",
    "            result += roman_digit * times\n",
    "\n",
    "    return result\n",
    "\n",
    "to_roman_numeral(n)"
   ]
  },
  {
   "cell_type": "markdown",
   "id": "0b923e04-4316-47a7-b64d-94e3c0fca44c",
   "metadata": {},
   "source": [
    "**Explanation:** We have a dictionary that maps Arabic numerals to Roman units. For a given input value, we check, in descending order, if the value is divisible by one of the Arabic numerals in the dictinoary. If it's divisible by 1000, then we'll add 'M' to the output and subtract 1000 from the value (or 2000, or 3000, if divisible more than once), to get the remainder, otherwise skip. Move on to 900, and do the same, then with 500, etc.\n",
    "\n",
    "The main challenges lie in:\n",
    "* Making sure we get the correct calculations in each iteration, and the remainder we calculate for the next iteration is correct.\n",
    "* Making sure we have the correct mapping with the correct items."
   ]
  },
  {
   "cell_type": "code",
   "execution_count": null,
   "id": "66bc972d-ec82-4167-8c8b-2b922b7bb641",
   "metadata": {},
   "outputs": [],
   "source": []
  }
 ],
 "metadata": {
  "kernelspec": {
   "display_name": "Python 3",
   "language": "python",
   "name": "python3"
  },
  "language_info": {
   "codemirror_mode": {
    "name": "ipython",
    "version": 3
   },
   "file_extension": ".py",
   "mimetype": "text/x-python",
   "name": "python",
   "nbconvert_exporter": "python",
   "pygments_lexer": "ipython3",
   "version": "3.12.4"
  }
 },
 "nbformat": 4,
 "nbformat_minor": 5
}
