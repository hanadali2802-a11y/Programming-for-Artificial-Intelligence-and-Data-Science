{
 "cells": [
  {
   "cell_type": "markdown",
   "id": "478a668a-273f-452f-84c9-ca85ba26ad04",
   "metadata": {},
   "source": [
    "# Coursework 1: Python programming"
   ]
  },
  {
   "cell_type": "markdown",
   "id": "9bde526c-16a3-4305-b313-ce9f5c730f01",
   "metadata": {},
   "source": [
    "This is the first coursework of ECS7023P Programming for AI and Data Science, which counts 35% towards the final grade of the module. The coursework is graded out of 100 marks.\n",
    "\n",
    "**Deadline:** Monday 29th September, 2025 - 5pm\n",
    "\n",
    "**How to submit:** You will submit three files:\n",
    "* **A completed version of this Jupyter notebook** file with your solutions. You need to submit the python code that produces the required answers. Answers produced through means other than python code will not be deemed acceptable.\n",
    "* **An html version of the Jupyter notebook** which includes the outputs of your code. You can obtain this file on Jupyter Notebook: File -> Save and Export Notebook As... -> HTML.\n",
    "* **A 2-page pdf report** where you concisely explain how you addressed each of the exercises, as if you were explaining to somebody else how you approached and solved the problem. What is the logic of the code you developed, and why do you use the elements you used (e.g. functions, for loops, dictionaries / lists, etc.). This is expected to be similar to the explanations provided with some of the model solutions for lab exercises, there's no need to explain every single line. **NB:** this report is strictly limited to 2 pages. You need to be concise. Additional pages beyond the 2nd page will not be considered during marking. As long as you fit it within the 2 pages, it is up to you how much space you choose to use for each question.\n",
    "\n",
    "**Completing the exercises:** Each exercise must be completed independently, i.e. do not reuse code from other exercises. For example, exercise 5 must run on its own without having to execute exercises 1 to 4 first. Each exercise needs to be solved with code that runs on its own.\n",
    "\n",
    "**Marking criteria:** Marks will be given for (i) correctness of the solution, i.e. achieving the expected output (40%), (ii) good and clear explanation in the report (20%), and (iii) implementation of optimal code (40%). By optimal code, we refer to concepts we have seen in the lectures and labs, i.e. how well your code scales to larger datasets, does it do more steps / checks than necessary, is the code easy to understand and maintain if you pass it on to somebody else, does it make a good choice of data structures and loops.\n",
    "\n",
    "**Use of packages:** For this exercise, in addition to built-in python functions, you can only import the **csv** and **json** packages. No other packages are allowed. Packages you use in the statistics module, such as pandas, are not allowed in this module. You won't get any marks for a question if you import another package.\n",
    "\n",
    "**Note:** This is an individual coursework, the solutions you submit need to be your own and developed on your own."
   ]
  },
  {
   "cell_type": "markdown",
   "id": "cc9dc63a-bce3-4d71-a3e6-74f118dcc7a1",
   "metadata": {
    "tags": []
   },
   "source": [
    "## Exercises"
   ]
  },
  {
   "cell_type": "markdown",
   "id": "02175eb4-4623-40ab-ae09-96f1152a444d",
   "metadata": {},
   "source": [
    "### Exercise 1 (12 marks)"
   ]
  },
  {
   "cell_type": "markdown",
   "id": "ace12b36-cf3d-46bb-90fc-4f0d559365f4",
   "metadata": {},
   "source": [
    "1. Write a python function `check_preceding_sum()` that checks if a python list satisfies the criteria that each of its values is the sum of the preceding n values. The first n values of the list will not be checked because they don't have n preceding values.\n",
    "\n",
    "For example:\n",
    "* For the list [1, 2, 3, 5, 8, 13], and n = 2, the output should be True.\n",
    "* For the list [1, 2, 3, 5, 8, 13], and n = 3, the output should be False.\n",
    "* For the list [1, 1, 2, 2, 6, 11, 21], and n = 4, the output should be True."
   ]
  },
  {
   "cell_type": "code",
   "execution_count": 1,
   "id": "139ed87a-d2b1-4a09-bd83-c93590944d17",
   "metadata": {},
   "outputs": [],
   "source": [
    "# write your code here\n",
    "\n",
    "def check_preceding_sum(lst, n):                    \n",
    "    rolling_sum = sum(lst[:n])                  # sum of the first 'n' elements \n",
    "    for i in range(n, len(lst)):                # check condition for each element from n to the end.\n",
    "        if lst[i] != rolling_sum:               # At each step i, check if lst[i] does not equal the sum of the previous n elements.\n",
    "            return False              \n",
    "        rolling_sum += lst[i] - lst[i - n]      # move the window forward by one position:\n",
    "    return True\n",
    "    "
   ]
  },
  {
   "cell_type": "markdown",
   "id": "330af77b-af18-43dd-8614-deb4ce16ebe7",
   "metadata": {},
   "source": [
    "As an example, print yout output for the list [1, 1, 1, 3, 5, 9, 17, 31, 57], and n = 3."
   ]
  },
  {
   "cell_type": "code",
   "execution_count": 2,
   "id": "0ebc736b-1075-4871-ac73-9ca63ef0702b",
   "metadata": {},
   "outputs": [
    {
     "data": {
      "text/plain": [
       "True"
      ]
     },
     "execution_count": 2,
     "metadata": {},
     "output_type": "execute_result"
    }
   ],
   "source": [
    "# sample output, keep it in the final submission\n",
    "\n",
    "check_preceding_sum([1, 1, 1, 3, 5, 9, 17, 31, 57], 3)"
   ]
  },
  {
   "cell_type": "markdown",
   "id": "93befa19-5d8b-4898-ae97-00cde96dbc41",
   "metadata": {},
   "source": [
    "### Exercise 2 (12 marks)"
   ]
  },
  {
   "cell_type": "markdown",
   "id": "bbab3b67-deb8-456c-bfec-8cd97d6bfe8b",
   "metadata": {},
   "source": [
    "2. We refer to a sequence of two characters in a word as a *bigram*. For example, the word *house* contains four bigrams: ho, ou, us, se. Using the dictionary from https://users.cs.duke.edu/~ola/ap/linuxwords (file is provided with the exercise), compute the top 25 list of bigrams in the dictionary, printing a ranked list of bigrams along with their counts. Note that the last character of a word, and the first character of the word in the next row, do not make a bigram; they are separate words and should not be combined. Make sure to lowercase words before processing each of them.\n",
    "\n",
    "As a toy example, if our dictionary only had two words: climb, time. Our ranked list of bigrams would be:\n",
    "1. im: 2\n",
    "2. cl: 1\n",
    "3. li: 1\n",
    "4. mb: 1\n",
    "5. ti: 1\n",
    "6. me: 1"
   ]
  },
  {
   "cell_type": "code",
   "execution_count": 3,
   "id": "526529ee-359e-4ab4-b718-ea86f910a3af",
   "metadata": {},
   "outputs": [
    {
     "name": "stdout",
     "output_type": "stream",
     "text": [
      "1 in: 8427\n",
      "2 er: 7703\n",
      "3 es: 6388\n",
      "4 ti: 5514\n",
      "5 re: 5152\n",
      "6 on: 5099\n",
      "7 te: 5023\n",
      "8 ng: 4943\n",
      "9 ed: 4733\n",
      "10 at: 4633\n",
      "11 en: 4318\n",
      "12 an: 4206\n",
      "13 le: 3929\n",
      "14 st: 3751\n",
      "15 ra: 3425\n",
      "16 al: 3360\n",
      "17 ri: 3337\n",
      "18 nt: 3290\n",
      "19 ar: 3253\n",
      "20 or: 3061\n",
      "21 li: 3044\n",
      "22 ne: 2915\n",
      "23 de: 2805\n",
      "24 co: 2752\n",
      "25 is: 2650\n"
     ]
    }
   ],
   "source": [
    "# write your code here\n",
    "\n",
    "def collect_bigrams(word):\n",
    "    for i in range(len(word) - 1):                               # Loops i from 0 to len(word) - 2 inclusive\n",
    "        yield word[i:i+2]                                        # two-character slice starting at i\n",
    "\n",
    "def count_bigrams():\n",
    "    counts = {}                                                  # will hold how many times bigram appears\n",
    "    with open('linuxwords', \"r\") as fh:\n",
    "        for line in fh:\n",
    "            word = line.strip().lower()                          # removes trailing whitespace and lowercases all. \n",
    "            for bg in collect_bigrams(word):                     # extracts bigram from word using first function\n",
    "                counts[bg] = 1 + counts.get(bg, 0)   \n",
    "    return counts\n",
    "\n",
    "def most_freq_bigrams(counts, k=25):                             # get most frequent bigrams, default set to 25 \n",
    "    sorted_keys = sorted(counts, key=counts.get, reverse=True)   # Sorts the keys of counts by their values descending\n",
    "    return sorted_keys[:k]\n",
    "\n",
    "def main():\n",
    "    counts = count_bigrams()              \n",
    "    top_keys = most_freq_bigrams(counts, 25)                     # get top 25 bigram keys \n",
    "    rank = 1\n",
    "    for bg in top_keys:\n",
    "        print(f\"{rank} {bg}: {counts[bg]}\")\n",
    "        rank += 1                                                # adds 1 to the current rank (default value = 1)\n",
    "\n",
    "main()\n"
   ]
  },
  {
   "cell_type": "markdown",
   "id": "c98f9c61-c3d9-4be0-93d2-e063705ce29c",
   "metadata": {},
   "source": [
    "### Exercise 3 (16 marks)"
   ]
  },
  {
   "cell_type": "markdown",
   "id": "ac029ef9-7b56-43e0-96c9-f2ddfd4f81f6",
   "metadata": {},
   "source": [
    "3. In our zoo we have four different animals: parrots (2 legs), lions (4 legs), ladybugs (6 legs) and scorpions (8 legs). Write a python function `animal_breakdown()` which, given the number of animals and legs as input, outputs all possible combinations of animals in our zoo.\n",
    "\n",
    "As a toy example, if our input is 3 animals and 10 legs, the output should include two possible combinations: (i) 1 ladybug and 2 parrots, or (ii) 2 lions and 1 parrot."
   ]
  },
  {
   "cell_type": "code",
   "execution_count": 4,
   "id": "db318077-d152-4319-977d-6c521db92607",
   "metadata": {},
   "outputs": [],
   "source": [
    "# write your code here\n",
    "\n",
    "# parrot (p) = 2 legs \n",
    "# lion (l) = 4 legs \n",
    "# ladybug (lb) = 6 legs \n",
    "# scorpion (s) = 8 legs\n",
    "\n",
    "# p + l + lb + s = total_animals \n",
    "# 2p + 4l + 6lb + 8s = total_legs \n",
    "\n",
    "def animal_breakdown(total_animals, total_legs):\n",
    "    solutions = []                   \n",
    "    s_limit = total_animals                               # number of scorpions cannot exceed total animals\n",
    "    legs_s_limit = total_legs // 8                        # a scorpion can only have exactly 8 legs \n",
    "    if legs_s_limit < s_limit:\n",
    "        s_limit = legs_s_limit\n",
    "    for s in range(s_limit + 1):\n",
    "        anm_left_s = total_animals - s                    # animals left after removing scorpions  \n",
    "        legs_left_s = total_legs - 8 * s\n",
    "        if (2 * anm_left_s <= legs_left_s) and (legs_left_s <= 6 * anm_left_s):  #animals left must have between 2 (min) and 6 legs (max) \n",
    "            lb_limit = anm_left_s                        # number of ladybugs cannot exceed total animals \n",
    "            legs_lb_limit = legs_left_s // 6             # a ladybug can only have exactly 6 legs    \n",
    "            if legs_lb_limit < lb_limit:\n",
    "                lb_limit = legs_lb_limit\n",
    "            for lb in range(lb_limit + 1):\n",
    "                anm_left_s_lb = anm_left_s - lb               # animals and legs left (lions and parrots) after removing scorpions and ladybugs \n",
    "                legs_left_s_lb = legs_left_s - 6 * lb\n",
    "                two_l = legs_left_s_lb - 2 * anm_left_s_lb     \n",
    "                if (two_l % 2) == 0:\n",
    "                    l = two_l // 2\n",
    "                    if (l >= 0) and (l <= anm_left_s_lb):\n",
    "                        p = anm_left_s_lb - l                   # parrots make up whatever is left \n",
    "                        solutions.append({\n",
    "                                \"parrot\": p,\n",
    "                                \"lion\": l,\n",
    "                                \"ladybug\": lb,\n",
    "                                \"scorpion\": s\n",
    "                            })\n",
    "    return solutions\n"
   ]
  },
  {
   "cell_type": "markdown",
   "id": "ae6d709a-fd15-4519-87bf-7392c554bf12",
   "metadata": {},
   "source": [
    "As an example, print your output for 20 animals and 146 legs."
   ]
  },
  {
   "cell_type": "code",
   "execution_count": 5,
   "id": "2b9e5ca6-272e-49cb-a266-3278cc962265",
   "metadata": {},
   "outputs": [
    {
     "data": {
      "text/plain": [
       "[{'parrot': 0, 'lion': 0, 'ladybug': 7, 'scorpion': 13},\n",
       " {'parrot': 0, 'lion': 1, 'ladybug': 5, 'scorpion': 14},\n",
       " {'parrot': 0, 'lion': 2, 'ladybug': 3, 'scorpion': 15},\n",
       " {'parrot': 1, 'lion': 0, 'ladybug': 4, 'scorpion': 15},\n",
       " {'parrot': 0, 'lion': 3, 'ladybug': 1, 'scorpion': 16},\n",
       " {'parrot': 1, 'lion': 1, 'ladybug': 2, 'scorpion': 16},\n",
       " {'parrot': 1, 'lion': 2, 'ladybug': 0, 'scorpion': 17},\n",
       " {'parrot': 2, 'lion': 0, 'ladybug': 1, 'scorpion': 17}]"
      ]
     },
     "execution_count": 5,
     "metadata": {},
     "output_type": "execute_result"
    }
   ],
   "source": [
    "# sample output, keep it in the final submission\n",
    "animal_breakdown(20, 146)"
   ]
  },
  {
   "cell_type": "markdown",
   "id": "f1e3f9be-ec5a-4945-8bab-8706f62d6f50",
   "metadata": {},
   "source": [
    "### Exercise 4 (20 marks)"
   ]
  },
  {
   "cell_type": "markdown",
   "id": "b38c2237-0844-44c5-866b-f62f9ecd5b8a",
   "metadata": {},
   "source": [
    "4. We are using a list of lists making up a 9x9 matrix to represent the board of a match-3 game like Candy Crush, where we have pieces of 5 different types: '+', 'o' , 'x', '*', '-'. The board is therefore represented through something like this:\n",
    "\n",
    "`board = [['x', 'o', 'x', '+', 'x', '-', '+', 'o', '+'],`\n",
    "\n",
    "`         ['-', '+', 'o', '-', '*', 'x', 'o', 'x', 'x'],`\n",
    "\n",
    "`         ['-', '*', '`<span style=\"color:red\">o</span>`', '-', 'o', '+', '*', 'x', '+'],`\n",
    "\n",
    "`         ['x', '+', 'x', '`<span style=\"color:red\">o</span>`', '+', '*', '*', '+', 'x'],`\n",
    "\n",
    "`         ['+', '*', '*', 'o', '`<span style=\"color:red\">o</span>`', 'x', 'o', '+', '`<span style=\"color:red\">x</span>`'],`\n",
    "\n",
    "`         ['*', '-', 'x', 'x', '*', '-', '*', '`<span style=\"color:red\">x</span>`', 'o'],`\n",
    "\n",
    "`         ['*', 'o', 'x', '-', 'o', '-', '`<span style=\"color:red\">x</span>`', 'o', '*'],`\n",
    "\n",
    "`         ['x', '+', '*', '*', '-', 'o', '-', '+', '+'],`\n",
    "\n",
    "`         ['-', '*', 'x', '*', '*', 'o', '+', 'x', '*']]`\n",
    "\n",
    "We consider there is a match in our board when there are 3 pieces of the same type in a row in horizontal, vertical or diagonals (both dexter and sinister diagonals).\n",
    "\n",
    "Write a python function `find_matches()`, which returns the positions of any matches in the board. If there are multiple matches, it will return a list of them. If there are none, it will return an empty list.\n",
    "\n",
    "In the example shown above, we have two diagonal matches, highlighted in red, so the correct output would be something like `[2][2], [3][3] and [4][4]` and `[4][8], [5][7] and [6][6]`."
   ]
  },
  {
   "cell_type": "code",
   "execution_count": 6,
   "id": "97fad890-405a-4083-9126-0eceedf9d87e",
   "metadata": {},
   "outputs": [],
   "source": [
    "# write your code here\n",
    "\n",
    "def find_matches(board):\n",
    "    n = len(board)  \n",
    "    matches = []    # stores all matches found in a list \n",
    "\n",
    "    def is_valid(row, col):\n",
    "        return 0 <= row < n and 0 <= col < n\n",
    "\n",
    "    def scan_lines_direction(starts, row_step, col_step):\n",
    "        for start_row, start_col in starts:\n",
    "            row, col = start_row, start_col               # current row/col while advancing a step\n",
    "            run_type = None                               # type of piece currently counting \n",
    "            current_run = []                              # list of the current run's [row,col] pairings \n",
    "            while is_valid(row, col):\n",
    "                cell_type = board[row][col]       \n",
    "                if cell_type == run_type:                 # if we have found a match \n",
    "                    current_run.append([row, col])\n",
    "                else:                                     # piece type changed:\n",
    "                    if len(current_run) >= 3:             # previous run length >= 3 store it \n",
    "                        matches.append(current_run)       \n",
    "                    run_type = cell_type\n",
    "                    current_run = [[row, col]]\n",
    "                row += row_step\n",
    "                col += col_step\n",
    "            if len(current_run) >= 3:\n",
    "                matches.append(current_run)\n",
    "\n",
    "    scan_lines_direction([(row, 0) for row in range(n)], row_step=0, col_step=1)    # for each row, start at column 0 and move right \n",
    "    scan_lines_direction([(0, col) for col in range(n)], row_step=1, col_step=0)    # for each column, start at row 0 and move down \n",
    "    scan_lines_direction([(0, col) for col in range(n)] + [(row, 0) for row in range(1, n)], row_step=1, col_step=1)    # for one diagonal, start from top row and left col \n",
    "    scan_lines_direction([(0, col) for col in range(n)] + [(row, n - 1) for row in range(1, n)], row_step=1, col_step=-1)    # for the other diagonal, start from top row and right col \n",
    "\n",
    "    return matches\n"
   ]
  },
  {
   "cell_type": "markdown",
   "id": "61017c91-778e-48a0-8e78-9e8ee11b08d4",
   "metadata": {},
   "source": [
    "The following are samples of boards to test your code, keep them with your final submission:"
   ]
  },
  {
   "cell_type": "code",
   "execution_count": 7,
   "id": "f08e649b-8ca5-41ed-b1dd-775433678c5d",
   "metadata": {},
   "outputs": [
    {
     "data": {
      "text/plain": [
       "[]"
      ]
     },
     "execution_count": 7,
     "metadata": {},
     "output_type": "execute_result"
    }
   ],
   "source": [
    "board = [['+', 'x', 'o', 'x', '*', 'x', 'o', '*', '+'],\n",
    "         ['*', '+', '*', 'o', '*', '+', '+', 'o', 'x'],\n",
    "         ['o', 'x', 'o', '+', '+', '*', '+', '-', '-'],\n",
    "         ['*', '+', '*', 'o', 'x', 'o', 'x', 'o', '*'],\n",
    "         ['+', 'o', '+', 'x', '+', '-', '-', 'x', '+'],\n",
    "         ['x', '+', '*', '*', 'x', 'o', '*', 'o', '*'],\n",
    "         ['o', '*', 'o', 'o', '+', '-', '+', '*', '+'],\n",
    "         ['x', '+', 'x', '+', '*', '-', 'x', 'o', 'x'],\n",
    "         ['o', '*', 'o', 'x', 'o', 'x', '+', '*', 'o']]\n",
    "\n",
    "find_matches(board)"
   ]
  },
  {
   "cell_type": "code",
   "execution_count": 8,
   "id": "c702b14b-cf0e-41f4-90fa-06f2156fe6c1",
   "metadata": {},
   "outputs": [
    {
     "data": {
      "text/plain": [
       "[[[7, 6], [7, 7], [7, 8]],\n",
       " [[6, 6], [7, 6], [8, 6]],\n",
       " [[0, 7], [1, 7], [2, 7]],\n",
       " [[2, 2], [3, 3], [4, 4], [5, 5]],\n",
       " [[4, 3], [5, 2], [6, 1]],\n",
       " [[4, 6], [5, 5], [6, 4]]]"
      ]
     },
     "execution_count": 8,
     "metadata": {},
     "output_type": "execute_result"
    }
   ],
   "source": [
    "board = [['x', 'o', 'x', '+', 'x', '-', '+', 'x', '+'],\n",
    "         ['-', '+', 'o', '-', '*', 'x', 'o', 'x', 'x'],\n",
    "         ['-', '*', 'o', '-', 'o', '+', '*', 'x', '+'],\n",
    "         ['x', '+', 'x', 'o', '+', '*', '*', '+', 'x'],\n",
    "         ['+', '*', '*', 'o', 'o', 'x', 'o', '+', '-'],\n",
    "         ['*', '-', 'o', 'x', '*', 'o', '*', '-', 'o'],\n",
    "         ['*', 'o', 'x', '-', 'o', '-', '+', 'o', '*'],\n",
    "         ['x', '+', '*', '*', '-', 'x', '+', '+', '+'],\n",
    "         ['-', '*', 'x', '*', '*', 'o', '+', 'x', '*']]\n",
    "\n",
    "find_matches(board)"
   ]
  },
  {
   "cell_type": "markdown",
   "id": "a0a9e491-7e89-4522-bead-c2eb1d66c9c1",
   "metadata": {},
   "source": [
    "## Dataset for the remainder of the exercises"
   ]
  },
  {
   "cell_type": "markdown",
   "id": "110df145-9d60-418f-8988-b48f6f1fae89",
   "metadata": {},
   "source": [
    "The following exercises 5, 6 and 7 need to be completed using the movies dataset provided. For this, you are given a dataset that contains information about a collection of movies, along with ratings assigned by 25,000 users to those movies.\n",
    "\n",
    "The dataset contains two files:\n",
    "* movies.json: a JSON file with information about movies, including their ID, title, language, release date, country(ies) of origin and genre(s).\n",
    "* ratings.csv: a CSV file that contains an entry for each movie rating, where a user ID rates a movie ID with a rating on a likert scale from 1 to 5 at a certain time.\n",
    "\n",
    "The **movieId** column in ratings.csv can be linked to the IDs within movie.json, so you know which specific movie a user is rating in each case.\n",
    "\n",
    "**Note:** ratings.csv contains entries only for movies that each user has rated, i.e. for many movies, a user may not have entered any ratings so we don't have that information."
   ]
  },
  {
   "cell_type": "markdown",
   "id": "c1994bf6-e5d1-4498-8f3f-f79817647829",
   "metadata": {},
   "source": [
    "### Exercise 5 (8 marks)"
   ]
  },
  {
   "cell_type": "markdown",
   "id": "031d72ec-bd0c-4da2-ae8e-5f6b9220c1e1",
   "metadata": {},
   "source": [
    "5. The last column in the ratings file indicates the time at which the user submitted the rating. This is the UNIX timestamp (i.e. the number of seconds elapsed between 1st January 1970 and the time when the rating was submitted), but for the purposes of this exercise, it's enough to know that lower timestamps indicate earlier submissions. What is the ID of the user who submitted the earliest rating available in the dataset?"
   ]
  },
  {
   "cell_type": "code",
   "execution_count": 9,
   "id": "2efbb6a7-3d29-4635-8231-fd9e672b1b7f",
   "metadata": {},
   "outputs": [
    {
     "name": "stdout",
     "output_type": "stream",
     "text": [
      "ID of the user who submitted the earliest rating: 5274\n"
     ]
    }
   ],
   "source": [
    "# write your code here\n",
    "\n",
    "import csv\n",
    "\n",
    "with open('ratings.csv', 'r') as fh:             \n",
    "    csv_handler = csv.reader(fh)                 \n",
    "    headers = next(csv_handler)                  \n",
    "    first_row = next(csv_handler)                # reads first actual data row > initialise current earliest values\n",
    "    earliest_timestamp = int(first_row[-1])      \n",
    "    earliest_user_id = first_row[0]               \n",
    "    for row in csv_handler:                      # loop through remaining rows  \n",
    "        t_stamp = int(row[-1])                   \n",
    "        if t_stamp < earliest_timestamp:         # if new row's timestamp is earlier than current earliest: \n",
    "            earliest_timestamp = t_stamp         # ...update current earliest timestamp \n",
    "            earliest_user_id = row[0]            # ...& matching user ID\n",
    "\n",
    "print(f\"ID of the user who submitted the earliest rating: {earliest_user_id}\")\n"
   ]
  },
  {
   "cell_type": "markdown",
   "id": "6647ccaa-c700-4ffd-a57e-fe386ebe3fa4",
   "metadata": {},
   "source": [
    "### Exercise 6 (12 marks)"
   ]
  },
  {
   "cell_type": "markdown",
   "id": "e5df4f2f-5b2a-44de-8374-c0cdcc1e91f2",
   "metadata": {},
   "source": [
    "6. What is the title of the movie with the largest number of ratings and how many ratings does it have?"
   ]
  },
  {
   "cell_type": "code",
   "execution_count": 10,
   "id": "cd4043a1-b984-4b16-916e-b4ce4b4045d3",
   "metadata": {},
   "outputs": [
    {
     "name": "stdout",
     "output_type": "stream",
     "text": [
      "Title of movie with the largest number of ratings: The Million Dollar Hotel | Ratings: 8531\n"
     ]
    }
   ],
   "source": [
    "# write your code here\n",
    "\n",
    "import csv\n",
    "import json\n",
    "\n",
    "def movieId_title():\n",
    "    titles = {}                               # empty dictionary\n",
    "    with open('movies.json', \"r\") as fh:\n",
    "        for line in fh:                 \n",
    "            entry = json.loads(line)\n",
    "            titles[str(entry['id'])] = entry['title']        # stores movie's 'title' keyed by 'id'\n",
    "    return titles                                            # returns the completed lookup dictionary\n",
    "\n",
    "def movieId_rating():\n",
    "    with open('ratings.csv', \"r\") as fh:\n",
    "        csv_handler = csv.reader(fh)\n",
    "        headers = next(csv_handler)      \n",
    "        id_idx = headers.index('movieId')    # find the column position of the movie's 'id'\n",
    "        for row in csv_handler:              # loop through remaining rows\n",
    "            yield row[id_idx]                # yield each movie's 'id' as we read\n",
    "\n",
    "def main():\n",
    "    titles = movieId_title()\n",
    "    counts = {}             \n",
    "    most_id = \"\"            \n",
    "    most_count = -1         # first real count, 1, will replace -1)\n",
    "    for movieId in movieId_rating():\n",
    "        counts[movieId] = counts.get(movieId, 0) + 1      # increment that movie's count\n",
    "        if counts[movieId] > most_count:                  # if new count is greater than the current top count:\n",
    "            most_count = counts[movieId]                  # ...update leading movie with new count \n",
    "            most_id = movieId                             # ...& new leading movie\n",
    "\n",
    "    print(f\"Title of movie with the largest number of ratings: {titles[most_id]} | Ratings: {most_count}\")\n",
    "\n",
    "main()\n"
   ]
  },
  {
   "cell_type": "markdown",
   "id": "89b00fed-fc2e-4fcd-8688-a46c8b6f1516",
   "metadata": {},
   "source": [
    "### Exercise 7 (20 marks)"
   ]
  },
  {
   "cell_type": "markdown",
   "id": "3b9cc265-c179-4f90-9e85-50592e8040e3",
   "metadata": {},
   "source": [
    "7. We are looking for the title of the best-rated movie by users who exclusively rate French-language movies (i.e. users who never rate movies in other languages), and to qualify the movie needs to be rated by more than 3 of these French-exclusive users.\n",
    "\n",
    "This is what we want to achieve:\n",
    "1. Identify the users who exclusively rate movies in the French language, i.e. they never rated movies in a different language.\n",
    "2. We will rely on ratings only by these French-exclusive users, ignoring the rest of the users in the dataset.\n",
    "3. Looking at the ratings of these French-exclusive users, and excluding movies rated by 3 or fewer of these users, what's the title of the movie with the highest average rating?"
   ]
  },
  {
   "cell_type": "code",
   "execution_count": 11,
   "id": "9283ffd9-3ffc-42f4-a578-57400fe64e0f",
   "metadata": {},
   "outputs": [
    {
     "name": "stdout",
     "output_type": "stream",
     "text": [
      "Title: Sous le Sable | Avg: 4.625 | French-exclusive raters: 4\n"
     ]
    }
   ],
   "source": [
    "# write your code here\n",
    "\n",
    "import csv\n",
    "import json\n",
    "\n",
    "def title_language():\n",
    "    movies = {}\n",
    "    with open('movies.json', 'r') as fh:\n",
    "        for line in fh:                        \n",
    "            movie_data = json.loads(line)\n",
    "            \n",
    "            movies[str(movie_data['id'])] = {                   # keep columns we need\n",
    "                'title': movie_data['title'],\n",
    "                'language': movie_data['language']      \n",
    "            }\n",
    "    return movies\n",
    "\n",
    "def iterate_rows():\n",
    "    with open('ratings.csv', 'r') as fh:\n",
    "        csv_handler = csv.reader(fh)\n",
    "        headers = next(csv_handler)                              # skip header\n",
    "        \n",
    "        for userId, movieId, rating, timestamp in csv_handler:\n",
    "            yield userId, movieId, rating                        # ignore 'timestamp' column\n",
    "\n",
    "def french_exclusive_users():\n",
    "    movies = title_language()\n",
    "    all_users = set()\n",
    "    non_french_users = set()\n",
    "    for userId, movieId, _ in iterate_rows():   # identify any user who ever rated a non-French movie\n",
    "        all_users.add(userId)\n",
    "        if movies[movieId]['language'] != 'fr':\n",
    "            non_french_users.add(userId)\n",
    "    french_exclusive = all_users - non_french_users\n",
    "    return (movies, french_exclusive)\n",
    "\n",
    "def highest_rated_movie(movies, french_exclusive):\n",
    "    sum_ratings = {}       \n",
    "    count_ratings = {}     \n",
    "    distinct_users = {}    \n",
    "    for userId, movieId, rating in iterate_rows():\n",
    "        if userId in french_exclusive:        # miss non French-exclusive users\n",
    "            r = float(rating)\n",
    "            if movieId not in sum_ratings:    # first time movie appears\n",
    "                sum_ratings[movieId] = r\n",
    "                count_ratings[movieId] = 1\n",
    "                distinct_users[movieId] = {userId}\n",
    "            else:                              # update existing aggregates\n",
    "                sum_ratings[movieId] += r\n",
    "                count_ratings[movieId] += 1\n",
    "                distinct_users[movieId].add(userId)\n",
    "    best_movie_id = None\n",
    "    best_avg = -1.0\n",
    "    best_distinct = 0\n",
    "    for movieId, users in distinct_users.items():\n",
    "        distinct_count = len(users)\n",
    "        if distinct_count >= 4:\n",
    "            avg = sum_ratings[movieId] / count_ratings[movieId]      # average of the films rated by more than three distinct French-only raters\n",
    "            if avg > best_avg:                 \n",
    "                best_avg = avg\n",
    "                best_movie_id = movieId\n",
    "                best_distinct = distinct_count\n",
    "    if best_movie_id is None:                  # if no qualifying movie found\n",
    "        return 'None', 0.0, 0\n",
    "    return movies[best_movie_id]['title'], best_avg, best_distinct\n",
    "\n",
    "def main():\n",
    "    movies, fr_users = french_exclusive_users()                                 # calculate the set of french-exclusive users\n",
    "    title, avg, n = highest_rated_movie(movies, fr_users)                       # compile user ratings and choose the top film based on average.\n",
    "    \n",
    "    print(f\"Title: {title} | Avg: {avg:.3f} | French-exclusive raters: {n}\")    # Final output (averaged to three decimal places)\n",
    "\n",
    "main()\n"
   ]
  },
  {
   "cell_type": "code",
   "execution_count": null,
   "id": "34bf47f8-2fa1-4244-97b4-a27552fcd4c4",
   "metadata": {},
   "outputs": [],
   "source": []
  }
 ],
 "metadata": {
  "kernelspec": {
   "display_name": "Python 3 (ipykernel)",
   "language": "python",
   "name": "python3"
  },
  "language_info": {
   "codemirror_mode": {
    "name": "ipython",
    "version": 3
   },
   "file_extension": ".py",
   "mimetype": "text/x-python",
   "name": "python",
   "nbconvert_exporter": "python",
   "pygments_lexer": "ipython3",
   "version": "3.13.5"
  }
 },
 "nbformat": 4,
 "nbformat_minor": 5
}
