{
 "cells": [
  {
   "cell_type": "markdown",
   "id": "c8fa822d-92d6-4301-a3e7-c0f4cbf31aea",
   "metadata": {},
   "source": [
    "# ECS7023P - Additional exercises including solutions"
   ]
  },
  {
   "cell_type": "markdown",
   "id": "69193496-65d5-4f95-a975-bd0ee7b944c3",
   "metadata": {},
   "source": [
    "This is a set of additional exercises that you may use to practise the materials seen in the module. These exercises are adapted from the exercises published in https://github.com/Elbak/Python-Exercises\n",
    "\n",
    "There exercises are presented in increasing level of difficulty. For some of the exercises, especially the initial ones, there is a python function that provides the answer directly; however, if you want to try these exercises, the point is for you to implement them without using those functions providing the direct solution, so you practise the logic behind it to practise coding."
   ]
  },
  {
   "cell_type": "markdown",
   "id": "09caee2d-341b-4758-a4d2-651bf7d5875a",
   "metadata": {},
   "source": [
    "## Simpler exercises"
   ]
  },
  {
   "cell_type": "markdown",
   "id": "c2f6e7c3-a17a-4a90-871d-4dfccca9558a",
   "metadata": {},
   "source": [
    "#### 1. Define a function max_of_two() that takes two numbers as arguments and returns the largest of them. Use the if-then-else construct available in Python. (It is true that Python has the max() function built in, but writing it yourself is nevertheless a good exercise.)"
   ]
  },
  {
   "cell_type": "code",
   "execution_count": 1,
   "id": "8037b5de-19f1-458c-ac78-7e54dce24c7b",
   "metadata": {},
   "outputs": [
    {
     "data": {
      "text/plain": [
       "7"
      ]
     },
     "execution_count": 1,
     "metadata": {},
     "output_type": "execute_result"
    }
   ],
   "source": [
    "def max_of_two(a, b):\n",
    "    if a > b:\n",
    "        return a\n",
    "    return b\n",
    "\n",
    "max_of_two(3, 7)"
   ]
  },
  {
   "cell_type": "markdown",
   "id": "f70fff86-26cd-4cab-81ec-8327d6202813",
   "metadata": {},
   "source": [
    "#### 2. Define a function max_of_three() that takes three numbers as arguments and returns the largest of them."
   ]
  },
  {
   "cell_type": "code",
   "execution_count": 7,
   "id": "def95cc0-c4de-4871-91be-9cf1f62ade9b",
   "metadata": {},
   "outputs": [
    {
     "data": {
      "text/plain": [
       "12"
      ]
     },
     "execution_count": 7,
     "metadata": {},
     "output_type": "execute_result"
    }
   ],
   "source": [
    "# Option 1\n",
    "def max_of_three(a, b, c):\n",
    "    if a > b:\n",
    "        if a > c:\n",
    "            return a\n",
    "        return c\n",
    "    if b > c:\n",
    "        return b\n",
    "    return c\n",
    "\n",
    "max_of_three(11, 9, 12)"
   ]
  },
  {
   "cell_type": "code",
   "execution_count": 17,
   "id": "b1a909ea-5475-4576-8207-4d9ec9eb56eb",
   "metadata": {},
   "outputs": [
    {
     "data": {
      "text/plain": [
       "12"
      ]
     },
     "execution_count": 17,
     "metadata": {},
     "output_type": "execute_result"
    }
   ],
   "source": [
    "# Option 2\n",
    "def max_of_three(a, b, c):\n",
    "    if a > b:\n",
    "        maxn = a\n",
    "    else:\n",
    "        maxn = b\n",
    "    if c > maxn:\n",
    "        maxn = c\n",
    "    return maxn\n",
    "\n",
    "max_of_three(11, 9, 12)"
   ]
  },
  {
   "cell_type": "markdown",
   "id": "d6c988c8-765f-451a-b1e6-ba05626b5512",
   "metadata": {},
   "source": [
    "#### 3. The function max_of_two() from exercise 1) and the function max_of_three() from exercise 2) will only work for two and three numbers, respectively. But suppose we have a much larger number of numbers, or suppose we cannot tell in advance how many they are? Write a function max_in_list() that takes a list of numbers and returns the largest one."
   ]
  },
  {
   "cell_type": "code",
   "execution_count": 20,
   "id": "c6180733-2cf7-48e6-92ee-c05bddb1535f",
   "metadata": {},
   "outputs": [
    {
     "data": {
      "text/plain": [
       "20"
      ]
     },
     "execution_count": 20,
     "metadata": {},
     "output_type": "execute_result"
    }
   ],
   "source": [
    "import math\n",
    "def max_of_list(nums):\n",
    "    maxn = -math.inf\n",
    "    # initialise with the lowest possible value (minus infinity), which we will update whenever we find larger values on the list\n",
    "    # if we know we only have positive values, then initialising with 0 will suffice\n",
    "    for v in nums:\n",
    "        if v > maxn:\n",
    "            maxn = v\n",
    "    return maxn\n",
    "\n",
    "max_of_list([5, 7, 1, 3, 20])"
   ]
  },
  {
   "cell_type": "markdown",
   "id": "07f75336-4865-4b1d-b458-d1b93b3a7eb7",
   "metadata": {},
   "source": [
    "#### 4. Write a function that takes a character (i.e. a string of length 1) and returns True if it is a vowel, False otherwise."
   ]
  },
  {
   "cell_type": "code",
   "execution_count": 21,
   "id": "2984e178-f642-44bd-bbf3-6d513f869d0e",
   "metadata": {},
   "outputs": [
    {
     "data": {
      "text/plain": [
       "True"
      ]
     },
     "execution_count": 21,
     "metadata": {},
     "output_type": "execute_result"
    }
   ],
   "source": [
    "# Option 1\n",
    "def is_vowel(letter):\n",
    "    if letter == 'a' or letter == 'e' or letter == 'i' or letter == 'o' or letter == 'u':\n",
    "        return True\n",
    "    return False\n",
    "\n",
    "is_vowel('i')"
   ]
  },
  {
   "cell_type": "code",
   "execution_count": 23,
   "id": "7b75a288-7aa9-41e0-b303-61d2aa3469bd",
   "metadata": {},
   "outputs": [
    {
     "data": {
      "text/plain": [
       "True"
      ]
     },
     "execution_count": 23,
     "metadata": {},
     "output_type": "execute_result"
    }
   ],
   "source": [
    "# Option 2, and generally preferable as more compact, readable and easier to maintain\n",
    "def is_vowel(letter):\n",
    "    if letter in ['a', 'e', 'i', 'o', 'u']:\n",
    "        return True\n",
    "    return False\n",
    "\n",
    "is_vowel('o')"
   ]
  },
  {
   "cell_type": "markdown",
   "id": "4014d298-8c7d-4ed0-8861-1f138eb2be8c",
   "metadata": {},
   "source": [
    "#### 5. Write a function translate() that will translate a text into \"rövarspråket\" (Swedish for \"robber's language\"). That is, double every consonant and place an occurrence of \"o\" in between. For example, translate(\"this is fun\") should return the string \"tothohisos isos fofunon\"."
   ]
  },
  {
   "cell_type": "code",
   "execution_count": 26,
   "id": "83b8158d-c2ca-4e3d-9420-f12c0cfa3e7c",
   "metadata": {},
   "outputs": [
    {
     "data": {
      "text/plain": [
       "'tothohisos isos fofunon'"
      ]
     },
     "execution_count": 26,
     "metadata": {},
     "output_type": "execute_result"
    }
   ],
   "source": [
    "def translate(word):\n",
    "    tword = ''\n",
    "    for c in word:\n",
    "        if not is_vowel(c) and c != ' ': # assuming that, if a character is not a vowel or a space, it will be a consonant; if we want to be more strict, we could implement is_consonant()\n",
    "            tword += c + 'o' + c\n",
    "        else:\n",
    "            tword += c\n",
    "    return tword\n",
    "\n",
    "translate('this is fun')"
   ]
  },
  {
   "cell_type": "markdown",
   "id": "a9ab974c-640f-416b-944e-fa28061f12bf",
   "metadata": {},
   "source": [
    "#### 6. Define a function sum() and a function multiply() that sums and multiplies (respectively) all the numbers in a list of numbers. For example, sum([1, 2, 3, 4]) should return 10, and multiply([1, 2, 3, 4]) should return 24."
   ]
  },
  {
   "cell_type": "code",
   "execution_count": 28,
   "id": "13b1fba7-2256-45dc-a0c9-a05308b0969d",
   "metadata": {},
   "outputs": [
    {
     "data": {
      "text/plain": [
       "10"
      ]
     },
     "execution_count": 28,
     "metadata": {},
     "output_type": "execute_result"
    }
   ],
   "source": [
    "def sum(values):\n",
    "    total = 0\n",
    "    for value in values:\n",
    "        total += value\n",
    "    return total\n",
    "\n",
    "sum([1, 2, 3, 4])"
   ]
  },
  {
   "cell_type": "code",
   "execution_count": 29,
   "id": "cdb9d912-eadc-46ee-9730-d75143cfd5bb",
   "metadata": {},
   "outputs": [
    {
     "data": {
      "text/plain": [
       "24"
      ]
     },
     "execution_count": 29,
     "metadata": {},
     "output_type": "execute_result"
    }
   ],
   "source": [
    "def multiply(values):\n",
    "    total = 1 # need to initialise with 1 as the basis of a multiplication\n",
    "    for value in values:\n",
    "        total *= value\n",
    "    return total\n",
    "\n",
    "multiply([1, 2, 3, 4])"
   ]
  },
  {
   "cell_type": "markdown",
   "id": "b61b3706-75c7-4d60-a0f1-be87b5bde741",
   "metadata": {},
   "source": [
    "#### 7. Define a function reverse() that computes the reversal of a string. For example, reverse(\"I am testing\") should return the string \"gnitset ma I\"."
   ]
  },
  {
   "cell_type": "code",
   "execution_count": 38,
   "id": "7a9291a8-918d-4823-81aa-1f270c565adb",
   "metadata": {},
   "outputs": [
    {
     "data": {
      "text/plain": [
       "'gnitset ma I'"
      ]
     },
     "execution_count": 38,
     "metadata": {},
     "output_type": "execute_result"
    }
   ],
   "source": [
    "def reverse(text):\n",
    "    rev = ''\n",
    "    for index in range(len(text)-1, -1, -1):\n",
    "        rev += text[index]\n",
    "    return rev\n",
    "\n",
    "reverse('I am testing')\n",
    "\n",
    "# the alternative one-liner is:\n",
    "# return text[::-1]"
   ]
  },
  {
   "cell_type": "markdown",
   "id": "f449a3b6-eef0-45b3-8db1-5866e41e5431",
   "metadata": {},
   "source": [
    "#### 8. Write a function is_member() that takes a value (i.e. a number, string, etc) x and a list of values a, and returns True if x is a member of a, False otherwise. (Note that this is exactly what the in operator does, but for the sake of the exercise you should pretend Python did not have this operator.)"
   ]
  },
  {
   "cell_type": "code",
   "execution_count": 41,
   "id": "393aa05d-a364-4e56-87b2-8d03df35051b",
   "metadata": {},
   "outputs": [
    {
     "data": {
      "text/plain": [
       "True"
      ]
     },
     "execution_count": 41,
     "metadata": {},
     "output_type": "execute_result"
    }
   ],
   "source": [
    "def is_member(val, list):\n",
    "    for v in list:\n",
    "        if val == v:\n",
    "            return True\n",
    "    return False\n",
    "\n",
    "is_member(5, [1, 3, 5, 7])"
   ]
  },
  {
   "cell_type": "markdown",
   "id": "b5ca0d43-282d-45e3-af3b-55664dc84385",
   "metadata": {},
   "source": [
    "#### 9. Define a function overlapping() that takes two lists and returns True if they have at least one member in common, False otherwise. You may use your is_member() function, or the in operator, but for the sake of the exercise, you should (also) write it using two nested for-loops."
   ]
  },
  {
   "cell_type": "code",
   "execution_count": 45,
   "id": "52b273ae-f73c-4d8e-9cad-cebbea30382e",
   "metadata": {},
   "outputs": [
    {
     "data": {
      "text/plain": [
       "True"
      ]
     },
     "execution_count": 45,
     "metadata": {},
     "output_type": "execute_result"
    }
   ],
   "source": [
    "# Option 1\n",
    "def overlapping(l1, l2):\n",
    "    for v1 in l1:\n",
    "        for v2 in l2:\n",
    "            if v1 == v2:\n",
    "                return True\n",
    "    return False\n",
    "\n",
    "overlapping([1, 3, 5], [2, 3, 4])\n",
    "\n",
    "# NB: this option is not ideal due to the increased complexity; we are checking every value in l1 with every value in l2, which will underperform for long lists"
   ]
  },
  {
   "cell_type": "code",
   "execution_count": 46,
   "id": "9bfe5cac-0517-4acc-9cfe-c3fcf541d82c",
   "metadata": {},
   "outputs": [
    {
     "data": {
      "text/plain": [
       "True"
      ]
     },
     "execution_count": 46,
     "metadata": {},
     "output_type": "execute_result"
    }
   ],
   "source": [
    "# Option 2 and preferable\n",
    "def overlapping(l1, l2):\n",
    "    for v1 in l1:\n",
    "        if v1 in l2:\n",
    "            return True\n",
    "    return False\n",
    "\n",
    "overlapping([1, 3, 5], [2, 3, 4])"
   ]
  },
  {
   "cell_type": "markdown",
   "id": "f177e734-3780-4196-bb43-5bc382ecdc1d",
   "metadata": {},
   "source": [
    "#### 10. Define a function generate_n_chars() that takes an integer n and a character c and returns a string, n characters long, consisting only of c:s. For example, generate_n_chars(5,\"x\") should return the string \"xxxxx\". (Python is unusual in that you can actually write an expression 5 * \"x\" that will evaluate to \"xxxxx\". For the sake of the exercise you should ignore that the problem can be solved in this manner.)"
   ]
  },
  {
   "cell_type": "code",
   "execution_count": 47,
   "id": "ff979189-1d7f-4679-888f-6ab6f8f859b9",
   "metadata": {},
   "outputs": [
    {
     "data": {
      "text/plain": [
       "'xxxxx'"
      ]
     },
     "execution_count": 47,
     "metadata": {},
     "output_type": "execute_result"
    }
   ],
   "source": [
    "def generate_n_chars(n, c):\n",
    "    text = ''\n",
    "    for i in range(n):\n",
    "        text += c\n",
    "    return text\n",
    "\n",
    "generate_n_chars(5, 'x')"
   ]
  },
  {
   "cell_type": "markdown",
   "id": "7a9298e4-e628-4a82-85ff-82cf26372969",
   "metadata": {},
   "source": [
    "#### 11. Define a procedure histogram() that takes a list of integers and prints a histogram to the screen. For example, histogram([4, 9, 7]) should print the following:\n",
    "\n",
    "`****`\n",
    "\n",
    "`*********`\n",
    "\n",
    "`*******`"
   ]
  },
  {
   "cell_type": "code",
   "execution_count": 1,
   "id": "29de4d4b-d49b-473f-b270-d3173e5664d7",
   "metadata": {},
   "outputs": [
    {
     "name": "stdout",
     "output_type": "stream",
     "text": [
      "****\n",
      "*********\n",
      "*******\n"
     ]
    }
   ],
   "source": [
    "def histogram(vals):\n",
    "    for val in vals:\n",
    "        print(val * '*')\n",
    "\n",
    "histogram([4, 9, 7])"
   ]
  },
  {
   "cell_type": "markdown",
   "id": "0ea8f461-b9dc-438f-864c-3304aec6c4c1",
   "metadata": {},
   "source": [
    "#### 12. Write a program that maps a list of words into a list of integers representing the lengths of the correponding words. For example, word_lengths(['fish', 'office', 'location']) should return [4, 6, 8]."
   ]
  },
  {
   "cell_type": "code",
   "execution_count": 51,
   "id": "e0d1a91e-2f39-4fd6-9e0f-f4e720ad1d25",
   "metadata": {},
   "outputs": [
    {
     "data": {
      "text/plain": [
       "[4, 6, 8]"
      ]
     },
     "execution_count": 51,
     "metadata": {},
     "output_type": "execute_result"
    }
   ],
   "source": [
    "def word_lengths(words):\n",
    "    lens = []\n",
    "    for word in words:\n",
    "        lens.append(len(word))\n",
    "    return lens\n",
    "\n",
    "word_lengths(['fish', 'office', 'location'])"
   ]
  },
  {
   "cell_type": "markdown",
   "id": "6fff8dd4-3230-417d-9560-ca78dfe468f0",
   "metadata": {},
   "source": [
    "#### 13. Write a function find_longest_word() that takes a list of words and returns the length of the longest one."
   ]
  },
  {
   "cell_type": "code",
   "execution_count": 52,
   "id": "458748e7-e98c-470d-90c7-d6c028f036e7",
   "metadata": {},
   "outputs": [
    {
     "data": {
      "text/plain": [
       "'location'"
      ]
     },
     "execution_count": 52,
     "metadata": {},
     "output_type": "execute_result"
    }
   ],
   "source": [
    "def find_longest_word(words):\n",
    "    maxlen = 0\n",
    "    maxword = ''\n",
    "    for word in words:\n",
    "        if len(word) > maxlen:\n",
    "            maxlen = len(word)\n",
    "            maxword = word\n",
    "    return word\n",
    "\n",
    "find_longest_word(['fish', 'office', 'location'])"
   ]
  },
  {
   "cell_type": "markdown",
   "id": "a4dbc5c2-555a-48bb-86ac-face5aff49e4",
   "metadata": {},
   "source": [
    "#### 14. Write a function filter_long_words() that takes a list of words and an integer n and returns the list of words that are longer than n."
   ]
  },
  {
   "cell_type": "code",
   "execution_count": 2,
   "id": "03bb9c95-c48c-4938-8323-b13c7200966b",
   "metadata": {},
   "outputs": [
    {
     "data": {
      "text/plain": [
       "['capybara', 'marvelous']"
      ]
     },
     "execution_count": 2,
     "metadata": {},
     "output_type": "execute_result"
    }
   ],
   "source": [
    "# Option 1\n",
    "def filter_long_words(words, threshold):\n",
    "    filtered = []\n",
    "    for word in words:\n",
    "        if len(word) > threshold:\n",
    "            filtered.append(word)\n",
    "    return filtered\n",
    "\n",
    "filter_long_words(['capybara', 'giraffe', 'train', 'marvelous', 'say', 'sink'], 7)"
   ]
  },
  {
   "cell_type": "code",
   "execution_count": 3,
   "id": "3d182bfc-526a-4b6b-b537-5429bf584bd6",
   "metadata": {},
   "outputs": [
    {
     "data": {
      "text/plain": [
       "['capybara', 'marvelous']"
      ]
     },
     "execution_count": 3,
     "metadata": {},
     "output_type": "execute_result"
    }
   ],
   "source": [
    "# Option 2\n",
    "def filter_long_words(words, threshold):\n",
    "    return [word for word in words if len(word) > threshold]\n",
    "\n",
    "filter_long_words(['capybara', 'giraffe', 'train', 'marvelous', 'say', 'sink'], 7)"
   ]
  },
  {
   "cell_type": "markdown",
   "id": "79a8d57a-3773-4fe3-a440-7150256563df",
   "metadata": {},
   "source": [
    "#### 15. A pangram is a sentence that contains all the letters of the English alphabet at least once, for example: The quick brown fox jumps over the lazy dog. Your task here is to write a function to check a sentence to see if it is a pangram or not."
   ]
  },
  {
   "cell_type": "code",
   "execution_count": 8,
   "id": "7ffb0f7a-3f79-4316-82e7-3bd9a97b28af",
   "metadata": {},
   "outputs": [
    {
     "data": {
      "text/plain": [
       "True"
      ]
     },
     "execution_count": 8,
     "metadata": {},
     "output_type": "execute_result"
    }
   ],
   "source": [
    "def is_pangram(text):\n",
    "    alphabet = set(['a', 'b', 'c', 'd', 'e', 'f', 'g', 'h', 'i', 'j', 'k', 'l', 'm', 'n', 'o', 'p', 'q', 'r', 's', 't', 'u', 'v', 'w', 'x', 'y', 'z'])\n",
    "    \n",
    "    for c in text:\n",
    "        if c in alphabet:\n",
    "            alphabet.remove(c)\n",
    "        if len(alphabet) == 0:\n",
    "            return True\n",
    "    return False\n",
    "\n",
    "is_pangram('the quick brown fox jumps over the lazy dog')\n",
    "\n",
    "# We define a set which contains all 26 characters in the English alphabet\n",
    "# As we go through the characters in the input text, we remove the ones we find from the alphabet\n",
    "# We only return True if the alphabet is empty, i.e. we have found all characters"
   ]
  },
  {
   "cell_type": "markdown",
   "id": "2a43b12a-6ab7-4368-86d6-d4f3fde5b395",
   "metadata": {},
   "source": [
    "#### 16. Write a function char_freq() that takes a string and builds a frequency listing of the characters contained in it. Represent the frequency listing as a Python dictionary. Try it with something like char_freq(\"abbabcbdbabdbdbabababcbcbab\")."
   ]
  },
  {
   "cell_type": "code",
   "execution_count": 9,
   "id": "ef7c12ae-70e0-47d6-bfe2-4cbf9c76bf01",
   "metadata": {},
   "outputs": [
    {
     "data": {
      "text/plain": [
       "{'a': 7, 'b': 14, 'c': 3, 'd': 3}"
      ]
     },
     "execution_count": 9,
     "metadata": {},
     "output_type": "execute_result"
    }
   ],
   "source": [
    "def char_freq(text):\n",
    "    ccount = {}\n",
    "    for c in text:\n",
    "        ccount[c] = 1 + ccount.get(c, 0)\n",
    "    return ccount\n",
    "\n",
    "char_freq('abbabcbdbabdbdbabababcbcbab')"
   ]
  },
  {
   "cell_type": "markdown",
   "id": "8d674eeb-c02f-410b-9951-2f773a6b01e7",
   "metadata": {},
   "source": [
    "#### 17. In cryptography, a Caesar cipher is a very simple encryption techniques in which each letter in the plain text is replaced by a letter some fixed number of positions down the alphabet. For example, with a shift of 3, A would be replaced by D, B would become E, and so on. The method is named after Julius Caesar, who used it to communicate with his generals. ROT-13 (\"rotate by 13 places\") is a widely used example of a Caesar cipher where the shift is 13. In Python, the key for ROT-13 may be represented by means of the following dictionary:\n",
    "\n",
    "`key = {'a':'n', 'b':'o', 'c':'p', 'd':'q', 'e':'r', 'f':'s', 'g':'t', 'h':'u',`\n",
    "\n",
    "`       'i':'v', 'j':'w', 'k':'x', 'l':'y', 'm':'z', 'n':'a', 'o':'b', 'p':'c',`\n",
    "\n",
    "`       'q':'d', 'r':'e', 's':'f', 't':'g', 'u':'h', 'v':'i', 'w':'j', 'x':'k',`\n",
    "\n",
    "`       'y':'l', 'z':'m', 'A':'N', 'B':'O', 'C':'P', 'D':'Q', 'E':'R', 'F':'S',` \n",
    "\n",
    "`       'G':'T', 'H':'U', 'I':'V', 'J':'W', 'K':'X', 'L':'Y', 'M':'Z', 'N':'A',` \n",
    "\n",
    "`       'O':'B', 'P':'C', 'Q':'D', 'R':'E', 'S':'F', 'T':'G', 'U':'H', 'V':'I',` \n",
    "\n",
    "`       'W':'J', 'X':'K', 'Y':'L', 'Z':'M'}`\n",
    "\n",
    "#### Your task in this exercise is to implement an encoder/decoder of ROT-13. Once you're done, you will be able to read the following secret message:\n",
    "\n",
    "#### Pnrfne pvcure? V zhpu cersre Pnrfne fnynq!\n",
    "\n",
    "#### Note that since English has 26 characters, your ROT-13 program will be able to both encode and decode texts written in English."
   ]
  },
  {
   "cell_type": "code",
   "execution_count": 12,
   "id": "2a49c306-9d54-4c0f-93ea-df37f74826b5",
   "metadata": {},
   "outputs": [
    {
     "data": {
      "text/plain": [
       "'Caesar cipher? I much prefer Caesar salad!'"
      ]
     },
     "execution_count": 12,
     "metadata": {},
     "output_type": "execute_result"
    }
   ],
   "source": [
    "key = {'a':'n', 'b':'o', 'c':'p', 'd':'q', 'e':'r', 'f':'s', 'g':'t', 'h':'u',\n",
    "       'i':'v', 'j':'w', 'k':'x', 'l':'y', 'm':'z', 'n':'a', 'o':'b', 'p':'c',\n",
    "       'q':'d', 'r':'e', 's':'f', 't':'g', 'u':'h', 'v':'i', 'w':'j', 'x':'k',\n",
    "       'y':'l', 'z':'m', 'A':'N', 'B':'O', 'C':'P', 'D':'Q', 'E':'R', 'F':'S', \n",
    "       'G':'T', 'H':'U', 'I':'V', 'J':'W', 'K':'X', 'L':'Y', 'M':'Z', 'N':'A', \n",
    "       'O':'B', 'P':'C', 'Q':'D', 'R':'E', 'S':'F', 'T':'G', 'U':'H', 'V':'I', \n",
    "       'W':'J', 'X':'K', 'Y':'L', 'Z':'M'}\n",
    "\n",
    "text = 'Pnrfne pvcure? V zhpu cersre Pnrfne fnynq!'\n",
    "\n",
    "def decipher(text):\n",
    "    dectext = ''\n",
    "    for c in text:\n",
    "        if c in key:\n",
    "            dectext += key[c]\n",
    "        else:\n",
    "            dectext += c\n",
    "    return dectext\n",
    "\n",
    "decipher(text)"
   ]
  },
  {
   "cell_type": "markdown",
   "id": "72815455-8670-4b07-ad88-0d00cc973226",
   "metadata": {},
   "source": [
    "## More advanced exercises"
   ]
  },
  {
   "cell_type": "markdown",
   "id": "23597f64-4d56-49a4-8a00-8db688cd7686",
   "metadata": {},
   "source": [
    "#### 18. An anagram is a type of word play, the result of rearranging the letters of a word or phrase to produce a new word or phrase, using all the original letters exactly once; e.g., orchestra = carthorse. Using the word list at https://users.cs.duke.edu/~ola/ap/linuxwords (make sure you lowercase all words before processing), and given a word from the list as input, write a function that finds anagrams of that word in the word list."
   ]
  },
  {
   "cell_type": "code",
   "execution_count": 22,
   "id": "2340d480-0b16-4ecd-9c0e-0d16c5f37117",
   "metadata": {},
   "outputs": [
    {
     "data": {
      "text/plain": [
       "['aspired', 'despair', 'diapers', 'praised']"
      ]
     },
     "execution_count": 22,
     "metadata": {},
     "output_type": "execute_result"
    }
   ],
   "source": [
    "def find_anagrams(word):\n",
    "    anagrams = []\n",
    "    \n",
    "    seq = ''.join(sorted(word))\n",
    "    with open('linuxwords', 'r') as fh:\n",
    "        for line in fh:\n",
    "            refword = line.strip().lower()\n",
    "            wseq = ''.join(sorted(refword))\n",
    "            if wseq == seq:# and refword != word: # we can add this additional condition if we don't want to include the source word itself\n",
    "                anagrams.append(refword)\n",
    "                \n",
    "    return anagrams\n",
    "    \n",
    "find_anagrams('diapers')"
   ]
  },
  {
   "cell_type": "markdown",
   "id": "607281f0-71c0-43ad-982f-c409f03cfc7e",
   "metadata": {},
   "source": [
    "#### 19. Extending exercise 18, and using the same word list, but now without taking a word as input, compute the anagram sets and find the anagram set that contains most words in it. For example, ['diapers', 'aspired', 'despair', 'praised'] is an anagram set with 4 words in it."
   ]
  },
  {
   "cell_type": "code",
   "execution_count": 30,
   "id": "358f076d-aa5a-4d57-ad6d-affcbf2a74ed",
   "metadata": {},
   "outputs": [
    {
     "name": "stdout",
     "output_type": "stream",
     "text": [
      "['pares', 'parse', 'pears', 'rapes', 'reaps', 'spare', 'spear']\n"
     ]
    }
   ],
   "source": [
    "anagram_sets = {}\n",
    "\n",
    "maxseq = ''\n",
    "maxlen = 0\n",
    "with open('linuxwords', 'r') as fh:\n",
    "    for line in fh:\n",
    "        word = line.strip().lower()\n",
    "        wseq = ''.join(sorted(word))\n",
    "        \n",
    "        if not wseq in anagram_sets:\n",
    "            anagram_sets[wseq] = []\n",
    "        anagram_sets[wseq].append(word)\n",
    "        \n",
    "        if len(anagram_sets[wseq]) > maxlen: # we keep updating if the one we just added is the longest so far\n",
    "            maxlen = len(anagram_sets[wseq])\n",
    "            maxseq = wseq\n",
    "            \n",
    "print(anagram_sets[maxseq])"
   ]
  },
  {
   "cell_type": "markdown",
   "id": "64788909-11f6-4a72-a221-f6b94dac8a7a",
   "metadata": {},
   "source": [
    "#### 20. Given a string of opening ('[') and closing (']') brackets, write a function that determines if the string is balanced, i.e. same number of opening and closing brackets, and no closing brackets before they are opened.\n",
    "\n",
    "#### For example, '[[][]]' is balanced, whereas '[]][' isn't."
   ]
  },
  {
   "cell_type": "code",
   "execution_count": 32,
   "id": "164f180e-cea4-478f-83f2-155db65a6085",
   "metadata": {},
   "outputs": [
    {
     "data": {
      "text/plain": [
       "False"
      ]
     },
     "execution_count": 32,
     "metadata": {},
     "output_type": "execute_result"
    }
   ],
   "source": [
    "# Option 1: using two variables for counting opening and closing brackets, where we do balance checks\n",
    "def is_balanced(brackets):\n",
    "    opening = 0\n",
    "    closing = 0\n",
    "    \n",
    "    for bracket in brackets:\n",
    "        if bracket == '[':\n",
    "            opening += 1\n",
    "        elif bracket == ']':\n",
    "            closing += 1\n",
    "            \n",
    "        if closing > opening:\n",
    "            return False\n",
    "        \n",
    "    if closing != opening:\n",
    "        return False\n",
    "    \n",
    "    return True\n",
    "    \n",
    "is_balanced('[[][]]')\n",
    "# is_balanced('[]][')"
   ]
  },
  {
   "cell_type": "code",
   "execution_count": 35,
   "id": "3f0dc685-3adb-49e4-a8eb-00ae2b2b5457",
   "metadata": {},
   "outputs": [
    {
     "data": {
      "text/plain": [
       "True"
      ]
     },
     "execution_count": 35,
     "metadata": {},
     "output_type": "execute_result"
    }
   ],
   "source": [
    "# Option 2: using a single variable, where we count the surplus of opening brackets, return False if it's negative at any point or not 0 at the end\n",
    "def is_balanced(brackets):\n",
    "    opening = 0\n",
    "    \n",
    "    for bracket in brackets:\n",
    "        if bracket == '[':\n",
    "            opening += 1\n",
    "        elif bracket == ']':\n",
    "            opening -= 1\n",
    "            \n",
    "        if opening < 0:\n",
    "            return False\n",
    "        \n",
    "    if opening != 0:\n",
    "        return False\n",
    "    \n",
    "    return True\n",
    "\n",
    "is_balanced('[[][]]')\n",
    "# is_balanced('[]][')"
   ]
  },
  {
   "cell_type": "markdown",
   "id": "caf12b9a-5644-45ca-b73f-d91640f9586b",
   "metadata": {},
   "source": [
    "#### 21. An alternade is a word in which its letters, taken alternatively in a strict sequence, and used in the same order as the original word, make up at least two other words. All letters must be used, but the smaller words are not necessarily of the same length. For example, a word with seven letters where every second letter is used will produce a four-letter word and a three-letter word. Here are two examples:\n",
    "\n",
    "`\"board\": makes \"bad\" and \"or\".`\n",
    "\n",
    "`\"waists\": makes \"wit\" and \"ass\".`\n",
    "\n",
    "#### Using the word list at https://users.cs.duke.edu/~ola/ap/linuxwords (make sure you lowercase all words before processing), write a program that goes through each word in the list and tries to find two smaller words using every second letter. The smaller words must also be members of the list."
   ]
  },
  {
   "cell_type": "code",
   "execution_count": 39,
   "id": "9e7370dd-3b7a-4278-b421-ea101fb11da3",
   "metadata": {},
   "outputs": [
    {
     "name": "stdout",
     "output_type": "stream",
     "text": [
      "meet: me - et\n",
      "able: al - be\n",
      "shoal: sol - ha\n",
      "pion: po - in\n",
      "friend: fin - red\n",
      "sally: sly - al\n",
      "pooled: poe - old\n",
      "chair: car - hi\n",
      "dues: de - us\n",
      "doer: de - or\n",
      "hooded: hoe - odd\n",
      "dries: dis - re\n",
      "jaunt: jut - an\n",
      "beet: be - et\n",
      "jaunty: jut - any\n",
      "pierre: per - ire\n",
      "roarer: rae - orr\n",
      "voided: vie - odd\n",
      "door: do - or\n",
      "seamy: say - em\n",
      "beady: bay - ed\n",
      "sours: sus - or\n",
      "sordid: sri - odd\n",
      "hoarse: has - ore\n",
      "wooded: woe - odd\n",
      "noon: no - on\n",
      "shoed: sod - he\n",
      "paid: pi - ad\n",
      "stained: sand - tie\n",
      "allied: ale - lid\n",
      "saint: sit - an\n",
      "boer: be - or\n",
      "deeds: des - ed\n",
      "waists: wit - ass\n",
      "dried: did - re\n",
      "deem: de - em\n",
      "sheet: set - he\n",
      "meaty: may - et\n",
      "neon: no - en\n",
      "gauls: gus - al\n",
      "bien: be - in\n",
      "weed: we - ed\n",
      "ready: ray - ed\n",
      "heads: has - ed\n",
      "spoiled: sold - pie\n",
      "hails: his - al\n",
      "dies: de - is\n",
      "fief: fe - if\n",
      "head: ha - ed\n",
      "hail: hi - al\n",
      "party: pry - at\n",
      "moore: moe - or\n",
      "sweet: set - we\n",
      "mien: me - in\n",
      "blueness: buns - lees\n",
      "sweats: set - was\n",
      "mounded: mudd - one\n",
      "board: bad - or\n",
      "ably: al - by\n",
      "awning: ann - wig\n",
      "taint: tit - an\n",
      "annoy: any - no\n",
      "chain: can - hi\n",
      "blaine: ban - lie\n",
      "earned: ere - and\n",
      "breed: bed - re\n",
      "floors: for - los\n",
      "pain: pi - an\n",
      "free: fe - re\n",
      "apiary: air - pay\n",
      "heavier: hair - eve\n",
      "feet: fe - et\n",
      "dirty: dry - it\n",
      "heed: he - ed\n",
      "friends: fins - red\n",
      "theorems: term - hoes\n",
      "tooled: toe - old\n",
      "paine: pie - an\n",
      "deems: des - em\n",
      "wheat: wet - ha\n",
      "diets: des - it\n",
      "reunions: ruin - enos\n",
      "count: cut - on\n",
      "point: pit - on\n",
      "court: cut - or\n",
      "spain: san - pi\n",
      "lions: los - in\n",
      "waals: was - al\n",
      "eats: et - as\n",
      "guest: get - us\n",
      "reed: re - ed\n",
      "allele: all - lee\n",
      "cause: cue - as\n",
      "feed: fe - ed\n",
      "fooled: foe - old\n",
      "gaunt: gut - an\n",
      "hoar: ha - or\n",
      "parrots: pros - art\n",
      "heats: has - et\n",
      "israel: ire - sal\n",
      "moen: me - on\n",
      "pail: pi - al\n",
      "spoon: son - po\n",
      "pours: pus - or\n",
      "been: be - en\n",
      "tardy: try - ad\n",
      "pernod: pro - end\n",
      "ascot: act - so\n",
      "fiend: fed - in\n",
      "dion: do - in\n",
      "hoard: had - or\n",
      "rhea: re - ha\n",
      "sourness: suns - ores\n",
      "spoil: sol - pi\n",
      "ariadne: aide - ran\n",
      "being: big - en\n",
      "biota: boa - it\n",
      "sprain: sri - pan\n",
      "frayne: fan - rye\n",
      "claire: car - lie\n",
      "noun: nu - on\n",
      "fluent: fun - let\n",
      "sweaty: set - way\n",
      "theorem: term - hoe\n",
      "taos: to - as\n",
      "veined: vie - end\n",
      "heat: ha - et\n",
      "obtains: otis - ban\n",
      "bluest: bus - let\n",
      "stool: sol - to\n",
      "goof: go - of\n",
      "stood: sod - to\n",
      "buys: by - us\n",
      "bourne: bun - ore\n",
      "going: gig - on\n",
      "oars: or - as\n",
      "poor: po - or\n",
      "mound: mud - on\n",
      "pained: pie - and\n",
      "annette: ante - net\n",
      "greet: get - re\n",
      "learned: land - ere\n",
      "haunt: hut - an\n",
      "corny: cry - on\n",
      "calliope: clip - aloe\n",
      "meant: mat - en\n",
      "paint: pit - an\n",
      "brien: bin - re\n",
      "breasts: bess - rat\n",
      "strain: sri - tan\n",
      "sourer: sue - orr\n",
      "meekness: mens - ekes\n",
      "ballooned: blond - aloe\n",
      "bounded: budd - one\n",
      "seeley: see - ely\n",
      "tweed: ted - we\n",
      "bursa: bra - us\n",
      "apsis: ass - pi\n",
      "toiled: tie - old\n",
      "alcott: act - lot\n",
      "gaudy: guy - ad\n",
      "hoary: hay - or\n",
      "carty: cry - at\n",
      "haas: ha - as\n",
      "ours: or - us\n",
      "fairness: fins - ares\n",
      "hues: he - us\n",
      "soon: so - on\n",
      "added: add - de\n",
      "doers: des - or\n",
      "causes: cue - ass\n",
      "erne: en - re\n",
      "hiatt: hat - it\n",
      "deed: de - ed\n",
      "spooled: sold - poe\n",
      "assist: ass - sit\n",
      "aids: ad - is\n",
      "chains: can - his\n",
      "salty: sly - at\n",
      "inroad: ira - nod\n",
      "waist: wit - as\n",
      "palsy: ply - as\n",
      "schooled: shoe - cold\n",
      "countess: cuts - ones\n",
      "bound: bud - on\n",
      "parrot: pro - art\n",
      "spool: sol - po\n",
      "aims: am - is\n",
      "faint: fit - an\n",
      "poorer: poe - orr\n",
      "oswald: owl - sad\n",
      "maul: mu - al\n",
      "shoals: sol - has\n",
      "loire: lie - or\n",
      "doing: dig - on\n",
      "afield: ail - fed\n",
      "preen: pen - re\n",
      "freed: fed - re\n",
      "shoe: so - he\n",
      "into: it - no\n",
      "siena: sea - in\n",
      "bays: by - as\n",
      "oriole: oil - roe\n",
      "chairs: car - his\n",
      "diet: de - it\n"
     ]
    }
   ],
   "source": [
    "def find_alternades():\n",
    "    allwords = set()\n",
    "    \n",
    "    with open('linuxwords', 'r') as fh:\n",
    "        for line in fh:\n",
    "            word = line.strip().lower()\n",
    "            allwords.add(word)\n",
    "            \n",
    "    for word in allwords:\n",
    "        alt1 = ''.join([word[index] for index in range(len(word)) if index % 2 == 0])\n",
    "        alt2 = ''.join([word[index] for index in range(len(word)) if index % 2 == 1])\n",
    "    \n",
    "        if alt1 in allwords and alt2 in allwords:\n",
    "            print(word + ': ' + alt1 + ' - ' + alt2)\n",
    "                        \n",
    "find_alternades()"
   ]
  },
  {
   "cell_type": "code",
   "execution_count": null,
   "id": "bcec63a7-64db-43e0-88bc-87ad7818fdbf",
   "metadata": {},
   "outputs": [],
   "source": []
  }
 ],
 "metadata": {
  "kernelspec": {
   "display_name": "Python 3",
   "language": "python",
   "name": "python3"
  },
  "language_info": {
   "codemirror_mode": {
    "name": "ipython",
    "version": 3
   },
   "file_extension": ".py",
   "mimetype": "text/x-python",
   "name": "python",
   "nbconvert_exporter": "python",
   "pygments_lexer": "ipython3",
   "version": "3.13.3"
  }
 },
 "nbformat": 4,
 "nbformat_minor": 5
}
