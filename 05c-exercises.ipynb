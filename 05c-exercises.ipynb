{
 "cells": [
  {
   "cell_type": "markdown",
   "id": "c662c08c-3ba8-4ea0-b7d8-fe836379bc34",
   "metadata": {},
   "source": [
    "# Practice exercises \\#5 with answers"
   ]
  },
  {
   "cell_type": "markdown",
   "id": "02ef65dc-4f36-4484-9192-e7a5463a1f3a",
   "metadata": {},
   "source": [
    "1. Write a function called cumsum that takes a list of numbers and returns the cumulative sum; that is, a new list where the i^th^ element is the sum of the first i + 1 elements from the original list. For example: for the list [1, 2, 3, 4, 5], the output would be [1, 3, 6, 10, 15]."
   ]
  },
  {
   "cell_type": "code",
   "execution_count": 3,
   "id": "66e67288-9f96-4c6a-bfbc-0972339646f8",
   "metadata": {},
   "outputs": [
    {
     "name": "stdout",
     "output_type": "stream",
     "text": [
      "[1, 3, 6]\n"
     ]
    }
   ],
   "source": [
    "# option 1:\n",
    "\n",
    "def cumsum(lst):\n",
    "    newlst = []\n",
    "    for index in range(len(lst)):\n",
    "        newlst.append(sum(lst[:index+1]))\n",
    "        \n",
    "    return newlst\n",
    "\n",
    "lst = [1, 2, 3]\n",
    "print(cumsum(lst))"
   ]
  },
  {
   "cell_type": "code",
   "execution_count": 4,
   "id": "ed24934c-3a29-41c7-9e39-70372a42e704",
   "metadata": {},
   "outputs": [
    {
     "name": "stdout",
     "output_type": "stream",
     "text": [
      "[1, 3, 6]\n"
     ]
    }
   ],
   "source": [
    "# optionn 2:\n",
    "\n",
    "def cumsum(lst):\n",
    "    return [sum(lst[:index+1]) for index in range(len(lst))]\n",
    "\n",
    "lst = [1, 2, 3]\n",
    "print(cumsum(lst))"
   ]
  },
  {
   "cell_type": "markdown",
   "id": "6059a982-d85f-4861-9cea-f9283ff30206",
   "metadata": {},
   "source": [
    "2. Write a function called is_sorted() that takes a list as a parameter and returns True if the list is sorted and False otherwise. The function will have two parameters, is_sorted(l, ascending):\n",
    "* l will be the list.\n",
    "* ascending which will be a boolean variable: if it's True, the function will check if values are sorted in ascending order; if it's False, it will check if values are sorted in descending order.\n",
    "\n",
    "Note: equal numbers are considered sorted, i.e. [1, 5, 5, 7] is sorted in ascending order."
   ]
  },
  {
   "cell_type": "code",
   "execution_count": 9,
   "id": "db1e9647-51bd-4821-bf48-c85a12c1d1b3",
   "metadata": {},
   "outputs": [
    {
     "name": "stdout",
     "output_type": "stream",
     "text": [
      "True\n",
      "True\n"
     ]
    }
   ],
   "source": [
    "def is_sorted(l, ascending):\n",
    "    for index in range(len(l) - 1):\n",
    "        if (ascending == True and l[index] > l[index+1]) or (ascending == False and l[index] < l[index+1]):\n",
    "            return False\n",
    "    return True\n",
    "\n",
    "l1 = [1, 2, 3, 3, 4]\n",
    "\n",
    "print(is_sorted(l1, True))\n",
    "\n",
    "l2 = [6, 4, 4, 4, 2]\n",
    "\n",
    "print(is_sorted(l2, False))"
   ]
  },
  {
   "cell_type": "markdown",
   "id": "61703658-4f51-45c4-944e-4c4f297dbac1",
   "metadata": {},
   "source": [
    "3. Given a sentence or a collection of words as input, find the pair of words within the sentence that have most common characters between them (or one of the top pairs if there is a tie). For example, in the sequence, 'chocolate tower vanilla motorway cinnamon', the word pair with most common characters between them is 'tower - motorway' (4 common characters). Note: duplicate characters don't count, i.e. the letter 'a' is only counted once in 'vanilla'.\n",
    "\n",
    "The full calculation for the above example would be:\n",
    "* chocolate - tower: 3 common characters (t, o, e)\n",
    "* chocolate - vanilla: 2 (a, l)\n",
    "* chocolate - motorway: 3 (o, t, a)\n",
    "* chocolate - cinnamon: 3 (c, a, o)\n",
    "* tower - vanilla: 0\n",
    "* tower - motorway: 4 (o, t, r, w)\n",
    "* tower - cinnamon: 1 (o)\n",
    "* vanilla - motorway: 1 (a)\n",
    "* vanilla - cinnamon: 3 (i, n, a)\n",
    "* motorway - cinnamon: 3 (a, m, o)"
   ]
  },
  {
   "cell_type": "code",
   "execution_count": 2,
   "id": "aeb3b72c-7852-4568-bb49-4cb02ae7a53b",
   "metadata": {},
   "outputs": [
    {
     "data": {
      "text/plain": [
       "('tower-motorway', 4)"
      ]
     },
     "execution_count": 2,
     "metadata": {},
     "output_type": "execute_result"
    }
   ],
   "source": [
    "def most_common(sequence):\n",
    "    words = sequence.split()\n",
    "    \n",
    "    most_common_pair = ''\n",
    "    most_common_count = 0\n",
    "    for index1 in range(len(words)-1):\n",
    "        for index2 in range(index1+1, len(words)):\n",
    "            w1 = set(words[index1])\n",
    "            w2 = set(words[index2])\n",
    "            \n",
    "            count = len(w1.intersection(w2))\n",
    "            \n",
    "            if count > most_common_count:\n",
    "                most_common_count = count\n",
    "                most_common_pair = words[index1] + '-' + words[index2]\n",
    "    return (most_common_pair, most_common_count)\n",
    "\n",
    "seq = 'chocolate tower vanilla motorway cinnamon'\n",
    "most_common(seq)"
   ]
  },
  {
   "cell_type": "markdown",
   "id": "dcb4eaae-a71b-4c23-93d9-c1f0b330e339",
   "metadata": {},
   "source": [
    "4. We are given two lists, l1 and l2, as input. We can assume that both l1 and l2 contain numeric values only and are sorted. Write a function combine_sorted() that combines the values of lists l1 and l2 into a new list, l3, where values are sorted.\n",
    "\n",
    "e.g. for:\n",
    "- l1 = [4, 5, 9, 12, 18]\n",
    "- l2 = [2, 6, 8, 13, 20]\n",
    "\n",
    "the output will be l3 = [2, 4, 5, 6, 8, 9, 12, 13, 18, 20]\n",
    "\n",
    "**NB:** while there is a simple solution here by using **sorted(l1 + l2)**, the aim of this exercise is to develop it without using a sorting function"
   ]
  },
  {
   "cell_type": "code",
   "execution_count": 9,
   "id": "8b0b26e9-762b-4873-8e5b-7d3bf2150ce6",
   "metadata": {},
   "outputs": [
    {
     "name": "stdout",
     "output_type": "stream",
     "text": [
      "[2, 4, 5, 6, 8, 9, 12, 13, 18, 20]\n"
     ]
    }
   ],
   "source": [
    "# option 1:\n",
    "def combine_sorted(l1, l2):\n",
    "    len1 = len(l1)\n",
    "    len2 = len(l2)\n",
    "    total_len = len1 + len2\n",
    "    index1 = 0\n",
    "    index2 = 0\n",
    "    \n",
    "    newlst = []\n",
    "    while index1 + index2 < total_len:\n",
    "        if index1 < len1 and index2 < len2:\n",
    "            if l1[index1] < l2[index2]:\n",
    "                newlst.append(l1[index1])\n",
    "                index1 += 1\n",
    "            else:\n",
    "                newlst.append(l2[index2])\n",
    "                index2 += 1\n",
    "        elif index1 < len1:\n",
    "            newlst.append(l1[index1])\n",
    "            index1 += 1\n",
    "        else:\n",
    "            newlst.append(l2[index2])\n",
    "            index2 += 1\n",
    "    return newlst\n",
    "\n",
    "print(combine_sorted([4, 5, 9, 12, 18], [2, 6, 8, 13, 20]))"
   ]
  },
  {
   "cell_type": "code",
   "execution_count": 13,
   "id": "d4862e39-98ec-420c-b5e8-f4940ebff3a1",
   "metadata": {},
   "outputs": [
    {
     "name": "stdout",
     "output_type": "stream",
     "text": [
      "[2, 4, 5, 6, 8, 9, 12, 13, 18, 20]\n"
     ]
    }
   ],
   "source": [
    "# option 2: as stated in the exercise, this was not the desired solution for this exercise, but I'm providing here as a demonsration\n",
    "def combine_sorted(l1, l2):\n",
    "    return sorted(l1 + l2)\n",
    "    \n",
    "print(combine_sorted([4, 5, 9, 12, 18], [2, 6, 8, 13, 20]))"
   ]
  },
  {
   "cell_type": "markdown",
   "id": "2f962c0d-9c69-44c5-a9d2-194770db35ee",
   "metadata": {},
   "source": [
    "5. Write a function permutation_list(), which takes three characters as input, and produces a list with all possible permutations of those three characters without repeating any characters.\n",
    "\n",
    "e.g. permutation_list('a', 'b', 'c') should produce a list with:\n",
    "- 'abc'\n",
    "- 'acb'\n",
    "- 'bac'\n",
    "- 'bca'\n",
    "- 'cab'\n",
    "- 'cba'"
   ]
  },
  {
   "cell_type": "code",
   "execution_count": 12,
   "id": "fbfcf5b8-0ffd-4348-a98d-4c3d45e443eb",
   "metadata": {},
   "outputs": [
    {
     "name": "stdout",
     "output_type": "stream",
     "text": [
      "['abc', 'acb', 'bac', 'bca', 'cab', 'cba']\n"
     ]
    }
   ],
   "source": [
    "# option 1:\n",
    "\n",
    "def permutation_list(c1, c2, c3):\n",
    "    chars = [c1, c2, c3]\n",
    "    permutations = []\n",
    "    for p1 in range(0, 3):\n",
    "        for p2 in range(0, 3):\n",
    "            if p1 != p2: # This doesn't change the final result, but prevents checking all possible values of p3 when we know we shouldn't continue because p1 == p2\n",
    "                for p3 in range(0, 3):\n",
    "                    if p1 != p2 and p2 != p3 and p1 != p3:\n",
    "                        permutations.append(chars[p1] + chars[p2] + chars[p3])\n",
    "    return permutations\n",
    "    \n",
    "print(permutation_list('a', 'b', 'c'))"
   ]
  },
  {
   "cell_type": "code",
   "execution_count": 11,
   "id": "f8cc2e9b-90ad-43b9-96a1-9b2d950cc432",
   "metadata": {},
   "outputs": [
    {
     "name": "stdout",
     "output_type": "stream",
     "text": [
      "['abc', 'acb', 'bac', 'bca', 'cab', 'cba']\n"
     ]
    }
   ],
   "source": [
    "# option 2:\n",
    "\n",
    "def permutation_list(c1, c2, c3):\n",
    "    chars = [c1, c2, c3]\n",
    "    return [chars[p1] + chars[p2] + chars[p3] for p1 in range(0, 3) for p2 in range(0, 3) if p1 != p2 for p3 in range(0, 3) if p1 != p2 and p2 != p3 and p1 != p3]\n",
    "\n",
    "print(permutation_list('a', 'b', 'c'))"
   ]
  },
  {
   "cell_type": "markdown",
   "id": "30ed838e-8435-44ea-8fb7-bdb5ba3913e9",
   "metadata": {},
   "source": [
    "6. Given a list as input, create a new list with the items that have at least a duplicate.\n",
    "\n",
    "e.g. from a = [1, 2, 3, 1, 1, 4, 7, 7], the output would be dup = [1, 7]"
   ]
  },
  {
   "cell_type": "code",
   "execution_count": 2,
   "id": "6102d0e0-402c-420c-b443-8e03063d7b1a",
   "metadata": {},
   "outputs": [
    {
     "name": "stdout",
     "output_type": "stream",
     "text": [
      "{1, 7}\n"
     ]
    }
   ],
   "source": [
    "lst = [1, 2, 3, 1, 1, 4, 7, 7]\n",
    "\n",
    "seen = set()\n",
    "dup = set()\n",
    "for value in lst:\n",
    "    if value not in seen:\n",
    "        seen.add(value)\n",
    "    else:\n",
    "        dup.add(value)\n",
    "\n",
    "print(dup)"
   ]
  },
  {
   "cell_type": "markdown",
   "id": "8b7e8a28-9ca8-4f80-95fb-aa148f3d6e6c",
   "metadata": {},
   "source": [
    "**[Advanced]**\n",
    "\n",
    "7. We are storing trees (like the one in the picture below) into lists.\n",
    "\n",
    "We can store the tree shown below as a list as follows:\n",
    "\n",
    "`tree = [1, 2, 2, 3, 4, 4, 3]`\n",
    "\n",
    "The values are appended to the list row by row, and each row is represented with its values left to right."
   ]
  },
  {
   "attachments": {
    "9eef63ac-d229-4f50-934d-6927b0ec5103.png": {
     "image/png": "[encoded data removed]"
    }
   },
   "cell_type": "markdown",
   "id": "c78cda64-4475-43b7-9043-2c4e012edcbe",
   "metadata": {},
   "source": [
    "![image.png](attachment:9eef63ac-d229-4f50-934d-6927b0ec5103.png)"
   ]
  },
  {
   "cell_type": "markdown",
   "id": "4a0f2edf-272a-45fd-a627-e9a87afb345d",
   "metadata": {},
   "source": [
    "For our exercise, the lists will be provided as input and already generated. We will assume that we are always given entire rows (e.g. tree = [1, 2] would have an incomplete second row and therefore isn't correct).\n",
    "\n",
    "The tree can have any depth: 1 item in row 1, 2 items in row 2, 4 items in row 3, 8 items in row 5, etc.\n",
    "\n",
    "The exercise consists in writing a function that checks if a tree given an input is symmetric (the example above is).\n",
    "\n",
    "You may use these examples to test your code:\n",
    "\n",
    "`tree = [1, 2, 2, 3, 4, 4, 3]` (this is symmetric)\n",
    "\n",
    "`tree = [1, 2, 2, 3, 3, 3, 3, 4, 4, 4, 4, 4, 4, 4, 4, 5, 5, 5, 5, 5, 5, 5, 5, 5, 5, 5, 5, 5, 5, 5, 5]` (this is symmetric)\n",
    "\n",
    "`tree = [1, 2, 2, 3, 3, 3, 3, 4, 4, 4, 4, 4, 4, 4, 4, 5, 25, 5, 5, 5, 5, 15, 5, 5, 5, 5, 5, 5, 5, 5, 5]` (this isn't symmetric)"
   ]
  },
  {
   "cell_type": "code",
   "execution_count": 4,
   "id": "22e1ae99-7599-4d51-b30c-e112d9d33973",
   "metadata": {},
   "outputs": [
    {
     "name": "stdout",
     "output_type": "stream",
     "text": [
      "[1]\n",
      "[2, 2]\n",
      "[3, 3, 3, 3]\n",
      "[4, 4, 4, 4, 4, 4, 4, 4]\n",
      "[5, 5, 5, 5, 5, 5, 5, 5, 5, 5, 5, 5, 5, 5, 5, 5]\n"
     ]
    },
    {
     "data": {
      "text/plain": [
       "True"
      ]
     },
     "execution_count": 4,
     "metadata": {},
     "output_type": "execute_result"
    }
   ],
   "source": [
    "tree = [1, 2, 2, 3, 3, 3, 3, 4, 4, 4, 4, 4, 4, 4, 4, 5, 5, 5, 5, 5, 5, 5, 5, 5, 5, 5, 5, 5, 5, 5, 5]\n",
    "\n",
    "def is_symmetric(tree):\n",
    "    depth = 0\n",
    "    pos = 0\n",
    "    while len(tree) >= pos + 2**depth:\n",
    "        subtree = tree[pos:pos+2**depth]\n",
    "        print(subtree)\n",
    "        if subtree != subtree[::-1]:\n",
    "            return False\n",
    "        pos += 2**depth\n",
    "        depth += 1\n",
    "\n",
    "    if len(tree) > pos:\n",
    "        return False\n",
    "    return True\n",
    "\n",
    "is_symmetric(tree)"
   ]
  },
  {
   "cell_type": "markdown",
   "id": "b86e44b4-11e1-490b-b97e-e2091ada9eb9",
   "metadata": {},
   "source": [
    "**Explanation:** this function takes a list as input, and then breaks it down into rows, one at a time. For a given depth, we know the number of items will be 2\\*\\*depth, so we need to work out where each rows starts and ends:\n",
    "* 1st row: starts in position 0, has 1 item.\n",
    "* 2nd row: starts in position 1, has 2 items.\n",
    "* 3rd row: starts in position 2, has 4 items.\n",
    "* etc.\n",
    "\n",
    "By having two variables that we modify in each row, position and depth, we can calculate these positions and extract the 'subtree' or 'row' for that depth. This subtree will be a list which we check if it's a palindrome."
   ]
  },
  {
   "cell_type": "code",
   "execution_count": 6,
   "id": "5530bb5a-eb8b-4c6e-842a-fb090e2be237",
   "metadata": {},
   "outputs": [
    {
     "name": "stdout",
     "output_type": "stream",
     "text": [
      "True\n"
     ]
    }
   ],
   "source": [
    "# Alternative solution that achieves the same with more compact code\n",
    "# this is however an alternative solution provided for info and the one above would be deemed equally correct\n",
    "\n",
    "import math\n",
    "\n",
    "def is_symmetric(subtree):\n",
    "    return subtree == subtree[::-1]\n",
    "\n",
    "tree = [1, 2, 2, 3, 3, 3, 3, 4, 4, 4, 4, 4, 4, 4, 4, 5, 5, 5, 5, 5, 5, 5, 5, 5, 5, 5, 5, 5, 5, 5, 5]\n",
    "\n",
    "subtrees = all([is_symmetric(tree[(2**depth-1):(2**depth-1)+2**depth]) for depth in range(0, int(math.log2(len(tree)))+1)])\n",
    "\n",
    "print(subtrees)"
   ]
  },
  {
   "cell_type": "markdown",
   "id": "582b5450-4ef8-40ae-9364-64ee85b816c9",
   "metadata": {},
   "source": [
    "**Explanation:** This code achieves the same as the one above, following the same logic of breaking the list into subtrees or rows that are represented as lists, and checks if each subtree is a palindrome.\n",
    "\n",
    "`int(math.log2(len(tree)))+1)` determines the number of rows the tree has.\n",
    "\n",
    "`is_symmetric(tree[(2**depth-1):(2**depth-1)+2**depth])` extracts each row for a given depth, and checks if it's symmetric\n",
    "\n",
    "`all()` will check if the symmetric condition is true for all depths. Return True only when it's True for all rows."
   ]
  },
  {
   "cell_type": "code",
   "execution_count": null,
   "id": "a7603ca6-456c-4c1c-8896-2bc97986a4ad",
   "metadata": {},
   "outputs": [],
   "source": []
  }
 ],
 "metadata": {
  "kernelspec": {
   "display_name": "Python 3 (ipykernel)",
   "language": "python",
   "name": "python3"
  },
  "language_info": {
   "codemirror_mode": {
    "name": "ipython",
    "version": 3
   },
   "file_extension": ".py",
   "mimetype": "text/x-python",
   "name": "python",
   "nbconvert_exporter": "python",
   "pygments_lexer": "ipython3",
   "version": "3.13.5"
  }
 },
 "nbformat": 4,
 "nbformat_minor": 5
}
