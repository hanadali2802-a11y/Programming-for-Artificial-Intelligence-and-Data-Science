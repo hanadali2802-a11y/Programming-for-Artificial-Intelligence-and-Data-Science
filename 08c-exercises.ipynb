{
 "cells": [
  {
   "cell_type": "markdown",
   "id": "ca12c161-1cb2-447e-98ce-10e199020f97",
   "metadata": {},
   "source": [
    "# Practice exercises \\#8 with answers"
   ]
  },
  {
   "cell_type": "markdown",
   "id": "3f059948-d69e-4fb8-b44e-005f82d67a77",
   "metadata": {},
   "source": [
    "1. We have two lists of values, l1 and l2, which are both of the same size n. We want to create a new list l3 which will contain n values, and where the value in index i of l3 is the multiplication of l1[i] and l2[i]. We have written the following code attempting to do this. Write an improved version that reduces its complexity. "
   ]
  },
  {
   "cell_type": "code",
   "execution_count": 1,
   "id": "2254f819-fa6d-4298-8c6f-13229bd66ed5",
   "metadata": {},
   "outputs": [
    {
     "name": "stdout",
     "output_type": "stream",
     "text": [
      "CPU times: user 20.4 s, sys: 811 μs, total: 20.4 s\n",
      "Wall time: 20.4 s\n"
     ]
    }
   ],
   "source": [
    "%%time\n",
    "# Original\n",
    "n = 15000\n",
    "\n",
    "l1 = [v for v in range(n)]\n",
    "l2 = [v for v in range(n)]\n",
    "\n",
    "l3 = []\n",
    "\n",
    "index1 = 0\n",
    "for v1 in l1:\n",
    "    index2 = 0\n",
    "    for v2 in l2:\n",
    "        if index1 == index2:\n",
    "            l3.append(v1 * v2)\n",
    "        index2 += 1\n",
    "    index1 += 1"
   ]
  },
  {
   "cell_type": "code",
   "execution_count": 2,
   "id": "344e7519-2454-4ad6-908e-3d23b6360a43",
   "metadata": {},
   "outputs": [
    {
     "name": "stdout",
     "output_type": "stream",
     "text": [
      "15000\n",
      "CPU times: user 2.82 ms, sys: 0 ns, total: 2.82 ms\n",
      "Wall time: 2.81 ms\n"
     ]
    }
   ],
   "source": [
    "%%time\n",
    "# You may write your answer here\n",
    "n = 15000\n",
    "\n",
    "l1 = [v for v in range(n)]\n",
    "l2 = [v for v in range(n)]\n",
    "\n",
    "l3 = []\n",
    "\n",
    "for v1, v2 in zip(l1, l2):\n",
    "    l3.append(v1 * v2)\n",
    "\n",
    "# The above would be optimal, but alternatively this is also fine:\n",
    "# for index in range(len(l1)):\n",
    "#    l3.append(l1[index] * l2[index])\n",
    "        \n",
    "print(len(l3))"
   ]
  },
  {
   "cell_type": "markdown",
   "id": "bbf35076-681b-4241-b46b-609e8e4772d9",
   "metadata": {},
   "source": [
    "**Explanation:** we have used '%%time' just to get an idea of the duration of the code, but the problem here is the complexity of the code.\n",
    "\n",
    "The original solution uses nested for loops:\n",
    "* The first for loops goes through each value in l1.\n",
    "* The 2nd, nested for loop goes through each value in l2 every time we get a value from l1. For l1, item 1, we go through all values in l2 to use only the one we need for the multiplication. For l1, item 2, again we go through all values in l2 to only use 1. We do this for every item in l1.\n",
    "\n",
    "With this solution, for every item in l1, we check every item in l2, which leads to a complexity of $n^2$.\n",
    "\n",
    "Ideally, for every item in l1, we only check its correct counterpart in l2. We can achieve this in at least two ways:\n",
    "* use zip() so go through both lists concurrently, i.e. we take item 1 from l1 and item 1 from l2 together, item 2 from l1 and item 2 from l2 together, etc.\n",
    "* we use indices (commented out above). If we loop through indices in l1, then we can directly access that same index in l2, with no need to go through the entire list.\n",
    "\n",
    "**NB:** for an exercise like this, if you run it with $n = 5$ instead of $n = 15000$, you will see no noticeable difference, it's just a small sample and the extra complexity will not make a difference. However, the bigger the $n$, the bigger will be the difference. This is very important to consider when we work with large datasets."
   ]
  },
  {
   "cell_type": "markdown",
   "id": "b4119c1a-a76f-4e2a-9064-e854806e3e49",
   "metadata": {},
   "source": [
    "2. We have been tasked with writing code that, for a given integer entered by the user, calculates the sum of even numbers up until that number (inclusive if it is even). For example:\n",
    "* If the input is 8, the output will be 2 + 4 + 6 + 8 = 20\n",
    "* If the input is 11, the output will be 2 + 4 + 6 + 8 + 10 = 30\n",
    "\n",
    "We have written the following code, but we aren't quite getting the expected result. Revise the code to fix any bugs and, if appropriate, modify anything to improve it."
   ]
  },
  {
   "cell_type": "code",
   "execution_count": 3,
   "id": "c95b83c2-4d3f-476b-b1ef-75eb41c9b12d",
   "metadata": {},
   "outputs": [
    {
     "ename": "SyntaxError",
     "evalue": "cannot assign to expression here. Maybe you meant '==' instead of '='? (3878628760.py, line 7)",
     "output_type": "error",
     "traceback": [
      "\u001b[0;36m  Cell \u001b[0;32mIn[3], line 7\u001b[0;36m\u001b[0m\n\u001b[0;31m    if number % 2 = 0:\u001b[0m\n\u001b[0m       ^\u001b[0m\n\u001b[0;31mSyntaxError\u001b[0m\u001b[0;31m:\u001b[0m cannot assign to expression here. Maybe you meant '==' instead of '='?\n"
     ]
    }
   ],
   "source": [
    "# Original\n",
    "number = int(input(\"Enter an integer: \"))\n",
    "\n",
    "i = 1\n",
    "\n",
    "while i < nomber:\n",
    "    if number % 2 = 0:\n",
    "        total = total + number\n",
    "    i = i + 1\n",
    "\n",
    "print(total)"
   ]
  },
  {
   "cell_type": "code",
   "execution_count": 9,
   "id": "5e404d15-4125-4a53-b5cb-2cfde65ed7ef",
   "metadata": {},
   "outputs": [
    {
     "name": "stdin",
     "output_type": "stream",
     "text": [
      "Enter an integer:  8\n"
     ]
    },
    {
     "name": "stdout",
     "output_type": "stream",
     "text": [
      "20\n"
     ]
    }
   ],
   "source": [
    "# Your fixed / improved code here\n",
    "\n",
    "number = int(input(\"Enter an integer: \"))\n",
    "\n",
    "total = 0\n",
    "for i in range(number + 1):\n",
    "    if i % 2 == 0:\n",
    "        total = total + i\n",
    "\n",
    "print(total)"
   ]
  },
  {
   "cell_type": "markdown",
   "id": "0817011d-035c-497c-862d-1c4a88c4a098",
   "metadata": {},
   "source": [
    "**Summary:** There were a few issues, including:\n",
    "* We were using the single equal '=' operator for comparison, where we should be using double equal '=='.\n",
    "* We had spelled 'nomber' instead of 'number'.\n",
    "* We were not initialising the variable total = 0.\n",
    "* We were checking if 'number' was even to then add it; however, 'number' is constant and it's 'i' that changes, so we should be checking and adding 'i' instead.\n",
    "* While this wasn't a functional issue, in this case it's best to use a 'for' loop as opposed to a 'while' loop, because we are running code for a finite set of numbers, i.e. from 1 to 'number'. We avoid doing 'i = i + 1' ourselves and we let python do the increments for us."
   ]
  },
  {
   "cell_type": "code",
   "execution_count": null,
   "id": "7e322673-f176-4a1d-808c-cf781b89803d",
   "metadata": {},
   "outputs": [],
   "source": []
  }
 ],
 "metadata": {
  "kernelspec": {
   "display_name": "Python 3",
   "language": "python",
   "name": "python3"
  },
  "language_info": {
   "codemirror_mode": {
    "name": "ipython",
    "version": 3
   },
   "file_extension": ".py",
   "mimetype": "text/x-python",
   "name": "python",
   "nbconvert_exporter": "python",
   "pygments_lexer": "ipython3",
   "version": "3.12.4"
  }
 },
 "nbformat": 4,
 "nbformat_minor": 5
}
